{
  "nbformat": 4,
  "nbformat_minor": 0,
  "metadata": {
    "colab": {
      "provenance": []
    },
    "kernelspec": {
      "name": "python3",
      "display_name": "Python 3"
    },
    "language_info": {
      "name": "python"
    }
  },
  "cells": [
    {
      "cell_type": "code",
      "source": [
        "!gdown --id 1zu97TwzyU2T8OVvQ2VMof-XqHDX_fxPf"
      ],
      "metadata": {
        "colab": {
          "base_uri": "https://localhost:8080/"
        },
        "id": "cSYXMRpjunyX",
        "outputId": "bd10d618-b763-4180-bd13-e081f1affe26"
      },
      "execution_count": null,
      "outputs": [
        {
          "output_type": "stream",
          "name": "stdout",
          "text": [
            "/usr/local/lib/python3.7/dist-packages/gdown/cli.py:131: FutureWarning: Option `--id` was deprecated in version 4.3.1 and will be removed in 5.0. You don't need to pass it anymore to use a file ID.\n",
            "  category=FutureWarning,\n",
            "Downloading...\n",
            "From: https://drive.google.com/uc?id=1zu97TwzyU2T8OVvQ2VMof-XqHDX_fxPf\n",
            "To: /content/data_merged.csv\n",
            "100% 227M/227M [00:02<00:00, 85.1MB/s]\n"
          ]
        }
      ]
    },
    {
      "cell_type": "code",
      "source": [
        "import pandas as pd\n",
        "import numpy as np\n",
        "\n",
        "from keras.utils import to_categorical\n",
        "from sklearn.model_selection import train_test_split\n",
        "\n",
        "from sklearn.linear_model import (\n",
        "    LinearRegression, \n",
        "    SGDRegressor, \n",
        "    LogisticRegression\n",
        ")\n",
        "from sklearn.svm import LinearSVC\n",
        "\n",
        "# from sklearn.preprocessing import normalize\n",
        "from sklearn.pipeline import make_pipeline\n",
        "from sklearn.preprocessing import StandardScaler\n",
        "\n",
        "SEED = 42\n",
        "TEST_SIZE = 0.2"
      ],
      "metadata": {
        "id": "BmA9NeprvQ5h"
      },
      "execution_count": null,
      "outputs": []
    },
    {
      "cell_type": "code",
      "source": [
        "data = pd.read_csv('./data_merged.csv')"
      ],
      "metadata": {
        "id": "h6ZY389kvQMO"
      },
      "execution_count": null,
      "outputs": []
    },
    {
      "cell_type": "code",
      "source": [
        "print(data.keys())"
      ],
      "metadata": {
        "colab": {
          "base_uri": "https://localhost:8080/"
        },
        "id": "h_DL-je5OvOI",
        "outputId": "8d9937d7-7907-4506-e475-34f9f6770dc5"
      },
      "execution_count": null,
      "outputs": [
        {
          "output_type": "stream",
          "name": "stdout",
          "text": [
            "Index(['Unnamed: 0', 'adult', 'belongs_to_collection', 'budget', 'genres',\n",
            "       'id', 'original_title', 'overview', 'popularity',\n",
            "       'production_companies', 'production_countries', 'release_date',\n",
            "       'revenue', 'runtime', 'status', 'title', 'video', 'vote_average',\n",
            "       'vote_count', 'cast', 'crew', 'keywords'],\n",
            "      dtype='object')\n"
          ]
        }
      ]
    },
    {
      "cell_type": "code",
      "source": [
        "def get_filtered_X(X, relevant_columns):\n",
        "    non_relevant_cols = [col for col in data.columns if col not in relevant_columns]\n",
        "    \n",
        "    for col in non_relevant_cols:\n",
        "        X = X.drop(col, axis=1)\n",
        "    \n",
        "    return X.to_numpy()"
      ],
      "metadata": {
        "id": "OdnUmPUkuwkL"
      },
      "execution_count": null,
      "outputs": []
    },
    {
      "cell_type": "code",
      "source": [
        "import re\n",
        "import ast\n",
        "\n",
        "for i in range(len(data['crew'])): \n",
        "  names = \"\"\n",
        "  try:\n",
        "    data['crew'][i] = data['crew'][i].replace(\"[\",\"\").replace(\"]\",\"\").replace(\"},\",\"} -\")\n",
        "    x = data['crew'][i].split(\" - \")\n",
        "    for j in x:\n",
        "      try:\n",
        "        j = ast.literal_eval(j)\n",
        "        names = names + j['name'].lower() + \":\"\n",
        "      except:\n",
        "        pass\n",
        "    data['crew'][i] = names\n",
        "  except:\n",
        "    data['crew'][i] = \"\"\n",
        "\n",
        "for i in range(len(data['cast'])): \n",
        "  names = \"\"\n",
        "  try:\n",
        "    data['cast'][i] = data['cast'][i].replace(\"[\",\"\").replace(\"]\",\"\").replace(\"},\",\"} -\")\n",
        "    x = data['cast'][i].split(\" - \")\n",
        "    for j in x:\n",
        "      try:\n",
        "        j = ast.literal_eval(j)\n",
        "        names = names + j['name'].lower() + \":\"\n",
        "      except:\n",
        "        pass\n",
        "    data['cast'][i] = names\n",
        "  except:\n",
        "    data['cast'][i] = \"\"\n",
        "\n",
        "for i in range(len(data['genres'])): \n",
        "  names = \"\"\n",
        "  try:\n",
        "    data['genres'][i] = data['genres'][i].replace(\"[\",\"\").replace(\"]\",\"\").replace(\"},\",\"} -\")\n",
        "    x = data['genres'][i].split(\" - \")\n",
        "    for j in x:\n",
        "      try:\n",
        "        j = ast.literal_eval(j)\n",
        "        names = names + j['name'].lower() + \":\"\n",
        "      except:\n",
        "        pass\n",
        "    data['genres'][i] = names\n",
        "  except:\n",
        "    data['genres'][i] = \"\"\n",
        "    \n"
      ],
      "metadata": {
        "colab": {
          "base_uri": "https://localhost:8080/"
        },
        "id": "ww4Hk53tYOxc",
        "outputId": "beb014a2-4553-403c-8ff2-e6dbda2791c3"
      },
      "execution_count": null,
      "outputs": [
        {
          "output_type": "stream",
          "name": "stderr",
          "text": [
            "/usr/local/lib/python3.7/dist-packages/ipykernel_launcher.py:7: SettingWithCopyWarning: \n",
            "A value is trying to be set on a copy of a slice from a DataFrame\n",
            "\n",
            "See the caveats in the documentation: https://pandas.pydata.org/pandas-docs/stable/user_guide/indexing.html#returning-a-view-versus-a-copy\n",
            "  import sys\n",
            "/usr/local/lib/python3.7/dist-packages/ipykernel_launcher.py:15: SettingWithCopyWarning: \n",
            "A value is trying to be set on a copy of a slice from a DataFrame\n",
            "\n",
            "See the caveats in the documentation: https://pandas.pydata.org/pandas-docs/stable/user_guide/indexing.html#returning-a-view-versus-a-copy\n",
            "  from ipykernel import kernelapp as app\n",
            "/usr/local/lib/python3.7/dist-packages/ipykernel_launcher.py:22: SettingWithCopyWarning: \n",
            "A value is trying to be set on a copy of a slice from a DataFrame\n",
            "\n",
            "See the caveats in the documentation: https://pandas.pydata.org/pandas-docs/stable/user_guide/indexing.html#returning-a-view-versus-a-copy\n",
            "/usr/local/lib/python3.7/dist-packages/ipykernel_launcher.py:30: SettingWithCopyWarning: \n",
            "A value is trying to be set on a copy of a slice from a DataFrame\n",
            "\n",
            "See the caveats in the documentation: https://pandas.pydata.org/pandas-docs/stable/user_guide/indexing.html#returning-a-view-versus-a-copy\n",
            "/usr/local/lib/python3.7/dist-packages/ipykernel_launcher.py:37: SettingWithCopyWarning: \n",
            "A value is trying to be set on a copy of a slice from a DataFrame\n",
            "\n",
            "See the caveats in the documentation: https://pandas.pydata.org/pandas-docs/stable/user_guide/indexing.html#returning-a-view-versus-a-copy\n",
            "/usr/local/lib/python3.7/dist-packages/ipykernel_launcher.py:45: SettingWithCopyWarning: \n",
            "A value is trying to be set on a copy of a slice from a DataFrame\n",
            "\n",
            "See the caveats in the documentation: https://pandas.pydata.org/pandas-docs/stable/user_guide/indexing.html#returning-a-view-versus-a-copy\n"
          ]
        }
      ]
    },
    {
      "cell_type": "code",
      "source": [
        "Cast = []\n",
        "Actors = {}\n",
        "Directors = {}\n",
        "Genres = {}\n",
        "\n",
        "Actors2 = {}\n",
        "Directors2 = {}\n",
        "Genres2 = {}\n",
        "Crew = []\n",
        "Genre = []\n",
        "\n",
        "# #weighed rating \n",
        "# C = data['vote_average'].mean()\n",
        "# m = data['vote_count'].quantile(0.9)\n",
        "def extract_feats():\n",
        "  top_directors = ['quentin tarantino', 'christopher nolan', 'martin scorsese', 'steven spielberg']\n",
        "  top_genres = ['adventure', 'science fiction', 'thriller', 'drama', 'action', 'fantasy']\n",
        "  # genre_matrix = {'adventure' : 0.8, 'science fiction' : 0.55, 'thriller' : 0.6, 'drama': 0.7, 'action' : 0.5 , 'fantasy': 0.65}\n",
        "  top_actors = ['leonardo dicaprio', 'tom hanks', 'tom cruise', 'jack nicholson', 'christian bale', 'brad pitt', 'al pacino']\n",
        "  \n",
        "  tot = len(data['cast'])\n",
        "  for a,d,g, v in list(zip(data['cast'],data['crew'],data['genres'],data['vote_average'])):\n",
        "    a = a.split(':')\n",
        "    d = d.split(':')\n",
        "    g = g.split(':')\n",
        "    for j in a:\n",
        "      if j not in Actors.keys():\n",
        "        Actors[j] = 0\n",
        "        Actors2[j] = 0  \n",
        "      Actors[j] += v\n",
        "      Actors2[j] += 1\n",
        "\n",
        "    \n",
        "    for j in d:\n",
        "      if j not in Directors.keys():\n",
        "        Directors[j] = 0\n",
        "        Directors2[j] = 0  \n",
        "\n",
        "      Directors[j] += v\n",
        "      Directors2[j] += 1\n",
        "\n",
        "    \n",
        "    for j in g:\n",
        "      if j not in Genres.keys():\n",
        "        Genres[j] = 0  \n",
        "        Genres2[j] = 0  \n",
        "\n",
        "      Genres[j] += v\n",
        "      Genres2[j] += 1\n",
        "\n",
        "\n",
        "\n",
        "  for i in Actors.keys():\n",
        "    if Actors2[i] != 0:\n",
        "      Actors[i] = Actors[i]/Actors2[i]\n",
        "    else:\n",
        "      Actors[i] = 0\n",
        "\n",
        "  for i in Directors.keys():\n",
        "    if Directors2[i] != 0:\n",
        "      Directors[i] = Directors[i]/Directors2[i]\n",
        "    else:\n",
        "      Directors[i] = 0\n",
        "\n",
        "  for i in Genres.keys():\n",
        "   if Genres2[i] != 0:\n",
        "      Genres[i] = Genres[i]/Genres2[i]\n",
        "   else:\n",
        "      Genres[i] = 0\n",
        "\n",
        "  for i in data['cast']:\n",
        "    i = i.split(':')\n",
        "    cast = 0\n",
        "    for j in i:\n",
        "      cast += Actors[j]/len(i)\n",
        "    Cast.append(cast)\n",
        "\n",
        "  for i in data['crew']:\n",
        "    i = i.split(':')\n",
        "    crew = 0\n",
        "    for j in i:\n",
        "      crew += Directors[j]/len(i)\n",
        "    Crew.append(crew)\n",
        "\n",
        "  for i in data['genres']:\n",
        "    i = i.split(':')\n",
        "    genre = 0\n",
        "    for j in i:\n",
        "      genre += Genres[j]/len(i)\n",
        "    Genre.append(genre)\n",
        "\n",
        "extract_feats()\n",
        "data = data.fillna(0)\n",
        "data['release_date'] = data['release_date'].apply(\n",
        "    lambda x: 2022 - int(str(x)[:4])\n",
        ")\n",
        "\n",
        "Revenue = list(data['revenue'])  \n",
        "Budget = list(data['budget'])\n",
        "Runtime = list(data['runtime'])\n",
        "Popularity = list(data['popularity'])\n",
        "Release_date = list(data['release_date'])\n",
        "\n"
      ],
      "metadata": {
        "id": "m6pysivhVzpJ"
      },
      "execution_count": null,
      "outputs": []
    },
    {
      "cell_type": "code",
      "source": [
        "print(Cast[0:100])"
      ],
      "metadata": {
        "colab": {
          "base_uri": "https://localhost:8080/"
        },
        "id": "nsEpPBUDU_g0",
        "outputId": "90f2e14b-8a51-4861-e302-df9638a6620e"
      },
      "execution_count": null,
      "outputs": [
        {
          "output_type": "stream",
          "name": "stdout",
          "text": [
            "[6.274007746106026, 6.39100334659774, 5.914826966197367, 5.883350999417806, 5.918450726973717, 6.424528474470209, 6.11165015806432, 5.866503053866252, 5.62387099860025, 6.1017179569634195, 5.8652094785780635, 5.554574134145839, 6.105651204771573, 5.933093149618101, 5.89621388545228, 6.794279500264078, 6.096438013504364, 5.9277690499516416, 5.800662047779453, 5.867467573752303, 5.939744708835122, 6.0734893632661455, 5.819607349949847, 5.6683642267143295, 5.636972843823974, 6.346724125976681, 5.786826583028587, 6.52670511170478, 6.791495187756058, 6.475179256930805, 6.154269802973607, 6.801289700498377, 5.7577909183321445, 5.913107100555814, 6.212108818654071, 6.395307281159566, 4.247209133085941, 5.607704637188191, 5.686766446370021, 6.326865387731769, 6.243291602394006, 6.002832961283515, 5.908098623705846, 5.303489524302929, 6.102701550369595, 6.033419269290295, 6.49516294575675, 6.0451952725392895, 5.261417626369796, 6.10731210012231, 5.310420986719217, 6.025317203829236, 6.544849655961758, 5.336306046657932, 5.601113066943089, 5.394654828781636, 5.874027580331001, 6.453256054932086, 5.680641825393633, 5.873063103051242, 5.702614949229809, 6.039049554426829, 5.781312027788331, 5.7555589622702925, 5.516431585117641, 4.828073629933684, 5.860170552839027, 6.012962467324783, 5.83148635482286, 6.162173360611493, 5.758112906941887, 5.957527501584471, 6.2126033577632835, 5.643807533286094, 5.561822061436543, 5.726353746208864, 6.332789611252364, 5.934566324165865, 5.898192117729416, 6.918542466419274, 5.71745926186171, 6.27198087366101, 5.58025116386836, 4.894114444531323, 5.93845602647684, 5.740623667903129, 5.8240259763908, 5.765950867521741, 5.914070918259857, 5.842568760694694, 6.361153439826169, 5.758589605281418, 6.161157621477274, 5.798609852070192, 6.404156911658099, 6.658687383069424, 5.886629825880321, 6.123594349814457, 5.904695572967309, 6.29465424276933]\n"
          ]
        }
      ]
    },
    {
      "cell_type": "code",
      "source": [
        "#normalize\n",
        "\n",
        "r_mean = np.mean(np.array(Revenue))\n",
        "r_max = np.max(np.array(Revenue))\n",
        "\n",
        "for i in range(len(Revenue)):\n",
        "  Revenue[i] = (Revenue[i] - r_mean)/r_max\n",
        "\n",
        "\n",
        "r_mean = np.mean(np.array(Budget))\n",
        "r_max = np.max(np.array(Budget))\n",
        "\n",
        "for i in range(len(Budget)):\n",
        "  Budget[i] = (Budget[i] - r_mean)/r_max\n"
      ],
      "metadata": {
        "id": "lRAEUOXwuMgF"
      },
      "execution_count": null,
      "outputs": []
    },
    {
      "cell_type": "code",
      "source": [
        "X = np.array(list(zip(Revenue,Budget,Genre,Cast,Crew, Runtime,Popularity)))\n",
        "y = np.array(list(data['vote_average']))\n",
        "print(y.shape)"
      ],
      "metadata": {
        "colab": {
          "base_uri": "https://localhost:8080/"
        },
        "id": "5CO9-1ChwWTq",
        "outputId": "d5475591-ceaa-4f22-c436-8d88f43cb480"
      },
      "execution_count": null,
      "outputs": [
        {
          "output_type": "stream",
          "name": "stdout",
          "text": [
            "(46628,)\n"
          ]
        }
      ]
    },
    {
      "cell_type": "code",
      "source": [
        "def process(X, y):\n",
        "    new_X, new_y = [], []\n",
        "    \n",
        "    for Xi, yi in zip(X, y):\n",
        "        if Xi[0] <= 0 or Xi[1] <= 0: continue\n",
        "\n",
        "        new_X.append(Xi)\n",
        "        new_y.append(yi)\n",
        "\n",
        "    return new_X, new_y\n",
        "\n",
        "X, y = process(X, y)\n",
        "y = np.array(y)\n",
        "print(len(X), len(y))"
      ],
      "metadata": {
        "colab": {
          "base_uri": "https://localhost:8080/"
        },
        "id": "Q284I7VXx1AM",
        "outputId": "1b171679-fd2c-4d85-a867-aae08cbe4ace"
      },
      "execution_count": null,
      "outputs": [
        {
          "output_type": "stream",
          "name": "stdout",
          "text": [
            "3399 3399\n"
          ]
        }
      ]
    },
    {
      "cell_type": "code",
      "source": [
        "\n",
        "# rb = [float(i/j) for i,j,k,l,m,n,o,p in X]\n",
        "# Genre = [k for i,j,k,l,m,n,o,p in X]\n",
        "# Cast = [l for i,j,k,l,m,n,o,p in X]\n",
        "# Crew = [m for i,j,k,l,m,n,o,p in X]\n",
        "# Runtime = [n for i,j,k,l,m,n,o,p in X]\n",
        "# Popularity = [o for i,j,k,l,m,n,o,p in X]\n",
        "# Release_date = [p for i,j,k,l,m,n,o,p in X]\n",
        "\n",
        "# X = np.array(list(zip(rb,Genre,Cast,Crew, Runtime,Popularity,Release_date,)))\n",
        "\n",
        "# print(X.shape)\n"
      ],
      "metadata": {
        "id": "T4dWnAxnqnln"
      },
      "execution_count": null,
      "outputs": []
    },
    {
      "cell_type": "code",
      "source": [
        "def regression(X, y, choice='lr'):\n",
        "    X_train, X_test, y_train, y_test = train_test_split(\n",
        "       X, y, test_size=TEST_SIZE, random_state=SEED\n",
        "    )\n",
        "    regressor = None\n",
        "    if choice == 'lr':\n",
        "        regressor = LinearRegression()\n",
        "    elif choice == 'sgd':\n",
        "        regressor = SGDRegressor(max_iter=1000, tol=1e-3)\n",
        "    else:\n",
        "        raise NotImplementedError\n",
        "\n",
        "    model = make_pipeline(StandardScaler(), regressor)\n",
        "    model.fit(X_train, y_train)\n",
        "    print(f\"{choice} score: {model.score(X_test, y_test)}\")\n",
        "    return"
      ],
      "metadata": {
        "id": "1-1WGoRu2oNC"
      },
      "execution_count": null,
      "outputs": []
    },
    {
      "cell_type": "code",
      "source": [
        "regression(X, y, 'lr')\n",
        "regression(X, y, 'sgd')"
      ],
      "metadata": {
        "colab": {
          "base_uri": "https://localhost:8080/"
        },
        "id": "MpsWaf2L3Rl0",
        "outputId": "fb618043-e05a-4afb-dff9-0546bc9f8afc"
      },
      "execution_count": null,
      "outputs": [
        {
          "output_type": "stream",
          "name": "stdout",
          "text": [
            "lr score: 0.7631200224547662\n",
            "sgd score: 0.7654510097923237\n"
          ]
        }
      ]
    },
    {
      "cell_type": "code",
      "source": [],
      "metadata": {
        "id": "55Sw7LjzF1Iq"
      },
      "execution_count": null,
      "outputs": []
    },
    {
      "cell_type": "code",
      "source": [
        "def convert_to_categorical(y):\n",
        "    y = list(map(int, y))\n",
        "    y = to_categorical(y)\n",
        "    return y\n",
        "\n",
        "def classification(X, y, choice='lr'):\n",
        "    y = list(map(int, y))\n",
        "\n",
        "    X_train, X_test, y_train, y_test = train_test_split(\n",
        "       X, y, test_size=TEST_SIZE, random_state=SEED\n",
        "    )\n",
        "\n",
        "    classifier = None\n",
        "    if choice == 'lr':\n",
        "        classifier = LogisticRegression(max_iter=5000)\n",
        "    elif choice == 'svc':\n",
        "        classifier = LinearSVC(max_iter=5000)\n",
        "    else:\n",
        "        raise NotImplementedError\n",
        "\n",
        "    model = make_pipeline(StandardScaler(), classifier)\n",
        "    model.fit(X_train, y_train)\n",
        "    print(f\"{choice} score: {model.score(X_test, y_test)}\")\n",
        "    return model"
      ],
      "metadata": {
        "id": "XDHnoct03f57"
      },
      "execution_count": null,
      "outputs": []
    },
    {
      "cell_type": "code",
      "source": [
        "lr = classification(X, y, 'lr')\n",
        "svc = classification(X, y, 'svc')"
      ],
      "metadata": {
        "colab": {
          "base_uri": "https://localhost:8080/"
        },
        "id": "d4t7HR_W1h8V",
        "outputId": "ded643d0-e58a-4b9e-f657-ea5c28fda45a"
      },
      "execution_count": null,
      "outputs": [
        {
          "output_type": "stream",
          "name": "stdout",
          "text": [
            "lr score: 0.7220588235294118\n",
            "svc score: 0.7044117647058824\n"
          ]
        },
        {
          "output_type": "stream",
          "name": "stderr",
          "text": [
            "/usr/local/lib/python3.7/dist-packages/sklearn/svm/_base.py:1208: ConvergenceWarning: Liblinear failed to converge, increase the number of iterations.\n",
            "  ConvergenceWarning,\n"
          ]
        }
      ]
    },
    {
      "cell_type": "code",
      "source": [
        "from joblib import dump\n",
        "\n",
        "dump(lr, 'logreg.joblib')\n",
        "dump(svc, 'svc.joblib')"
      ],
      "metadata": {
        "colab": {
          "base_uri": "https://localhost:8080/"
        },
        "id": "njqQzbwZmgby",
        "outputId": "4cd3f085-11c5-452c-c800-96f88bd18e4b"
      },
      "execution_count": null,
      "outputs": [
        {
          "output_type": "execute_result",
          "data": {
            "text/plain": [
              "['svc.joblib']"
            ]
          },
          "metadata": {},
          "execution_count": 121
        }
      ]
    }
  ]
}