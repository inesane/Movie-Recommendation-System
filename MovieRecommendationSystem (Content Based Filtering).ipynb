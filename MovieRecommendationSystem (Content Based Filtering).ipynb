{
  "nbformat": 4,
  "nbformat_minor": 0,
  "metadata": {
    "colab": {
      "provenance": []
    },
    "kernelspec": {
      "name": "python3",
      "display_name": "Python 3"
    },
    "language_info": {
      "name": "python"
    }
  },
  "cells": [
    {
      "cell_type": "code",
      "execution_count": null,
      "metadata": {
        "colab": {
          "base_uri": "https://localhost:8080/"
        },
        "id": "zQiC5qdhQwyD",
        "outputId": "815aefb0-7ad5-452c-cc56-244e2d331faf"
      },
      "outputs": [
        {
          "output_type": "stream",
          "name": "stdout",
          "text": [
            "/usr/local/lib/python3.7/dist-packages/gdown/cli.py:131: FutureWarning: Option `--id` was deprecated in version 4.3.1 and will be removed in 5.0. You don't need to pass it anymore to use a file ID.\n",
            "  category=FutureWarning,\n",
            "Downloading...\n",
            "From: https://drive.google.com/uc?id=1zu97TwzyU2T8OVvQ2VMof-XqHDX_fxPf\n",
            "To: /content/data_merged.csv\n",
            "100% 227M/227M [00:00<00:00, 240MB/s]\n"
          ]
        }
      ],
      "source": [
        "!gdown --id 1zu97TwzyU2T8OVvQ2VMof-XqHDX_fxPf"
      ]
    },
    {
      "cell_type": "code",
      "source": [
        "import pandas as pd\n",
        "import numpy as np\n",
        "from ast import literal_eval\n",
        "\n",
        "from sklearn.feature_extraction.text import TfidfVectorizer, CountVectorizer\n",
        "from sklearn.metrics.pairwise import linear_kernel\n",
        "from sklearn.preprocessing import normalize"
      ],
      "metadata": {
        "id": "hzHX_fnyQ38l"
      },
      "execution_count": null,
      "outputs": []
    },
    {
      "cell_type": "code",
      "source": [
        "df = pd.read_csv('data_merged.csv')"
      ],
      "metadata": {
        "id": "z5T0mHqpRZ16"
      },
      "execution_count": null,
      "outputs": []
    },
    {
      "cell_type": "code",
      "source": [
        "features = ['cast', 'keywords', 'crew', 'genres']\n",
        "required_cols = features + ['overview'] + ['title']\n",
        "df = df[required_cols]\n",
        "df = df.head(10000)"
      ],
      "metadata": {
        "id": "jPgUlZ47T1OB"
      },
      "execution_count": null,
      "outputs": []
    },
    {
      "cell_type": "code",
      "source": [
        "print(\"columns:\", df.columns)\n",
        "print(\"size:\", len(df))"
      ],
      "metadata": {
        "colab": {
          "base_uri": "https://localhost:8080/"
        },
        "id": "nmODmLPDXtia",
        "outputId": "91279538-dc8f-48eb-8e0e-a7a7a0d555a0"
      },
      "execution_count": null,
      "outputs": [
        {
          "output_type": "stream",
          "name": "stdout",
          "text": [
            "columns: Index(['cast', 'keywords', 'crew', 'genres', 'overview', 'title'], dtype='object')\n",
            "size: 10000\n"
          ]
        }
      ]
    },
    {
      "cell_type": "code",
      "source": [
        "df['overview'] = df['overview'].fillna('')\n",
        "\n",
        "tfidf = TfidfVectorizer(stop_words='english')\n",
        "tfidf_matrix = tfidf.fit_transform(df['overview'])\n",
        "cosine_sim1 = linear_kernel(tfidf_matrix, tfidf_matrix)\n",
        "# cosine_sim1 = normalize(cosine_sim1, axis=0)"
      ],
      "metadata": {
        "id": "hPyVV6opbbJF"
      },
      "execution_count": null,
      "outputs": []
    },
    {
      "cell_type": "code",
      "source": [
        "# HELPER FUNCTIONS\n",
        "def get_director(x):\n",
        "    for i in x:\n",
        "        if i['job'] == 'Director':\n",
        "            return i['name']\n",
        "    return np.nan\n",
        "\n",
        "def get_list(x):\n",
        "    if isinstance(x, list):\n",
        "        names = [i['name'] for i in x]\n",
        "        if len(names) > 3:\n",
        "            names = names[:3]\n",
        "        return names\n",
        "\n",
        "    return []\n",
        "\n",
        "def clean_data(x):\n",
        "    if isinstance(x, list):\n",
        "        return [str.lower(i.replace(\" \", \"\")) for i in x]\n",
        "    else:\n",
        "        if isinstance(x, str):\n",
        "            return str.lower(x.replace(\" \", \"\"))\n",
        "        else:\n",
        "            return ''"
      ],
      "metadata": {
        "id": "2yUsSyeGbClP"
      },
      "execution_count": null,
      "outputs": []
    },
    {
      "cell_type": "code",
      "source": [
        "for feature in features:\n",
        "    df[feature] = df[feature].apply(literal_eval)\n",
        "\n",
        "    f = get_director if feature == 'crew' else get_list\n",
        "    df[feature] = df[feature].apply(f)\n",
        "    \n",
        "    df[feature] = df[feature].apply(clean_data)\n",
        "\n",
        "def create_metadata(x):\n",
        "    metadata = []\n",
        "    for feature in features + ['title']:\n",
        "        metadata.append(' '.join(x[feature]))\n",
        "    \n",
        "    return ' '.join(metadata)"
      ],
      "metadata": {
        "id": "BQlOTkbdaOIa"
      },
      "execution_count": null,
      "outputs": []
    },
    {
      "cell_type": "code",
      "source": [
        "df['meta'] = df.apply(create_metadata, axis=1)\n",
        "\n",
        "count = CountVectorizer(stop_words='english')\n",
        "count_matrix = count.fit_transform(df['meta'])\n",
        "cosine_sim2 = linear_kernel(count_matrix, count_matrix)\n",
        "# cosine_sim2 = normalize(cosine_sim2, axis=0)"
      ],
      "metadata": {
        "id": "P9a7QvKscptw"
      },
      "execution_count": null,
      "outputs": []
    },
    {
      "cell_type": "code",
      "source": [
        "indices = pd.Series(df.index, index=df['title']).drop_duplicates()"
      ],
      "metadata": {
        "id": "pknkClI3bR2H"
      },
      "execution_count": null,
      "outputs": []
    },
    {
      "cell_type": "code",
      "source": [
        "def get_recommendations(title, plot=1, meta=1, top_k=10):\n",
        "    try:\n",
        "        idx = indices[title]\n",
        "    except:\n",
        "        print(\"Movie not found.\")\n",
        "        return []\n",
        "\n",
        "    sim_scores = [\n",
        "        plot * sim1 + meta * sim2\n",
        "        for sim1, sim2 in zip(cosine_sim1[idx], cosine_sim2[idx])\n",
        "    ]\n",
        "    \n",
        "    sim_scores = list(enumerate(sim_scores))\n",
        "    sim_scores = sorted(sim_scores, key=lambda x: x[1], reverse=True)\n",
        "    sim_scores = sim_scores[:top_k+1]\n",
        "\n",
        "    movie_indices = [i[0] for i in sim_scores]\n",
        "\n",
        "    return df['title'].iloc[movie_indices]"
      ],
      "metadata": {
        "id": "Y8DmNgKGd7JS"
      },
      "execution_count": null,
      "outputs": []
    },
    {
      "cell_type": "code",
      "source": [
        "get_recommendations('Toy Story', plot=1, meta=1)"
      ],
      "metadata": {
        "colab": {
          "base_uri": "https://localhost:8080/"
        },
        "id": "JDZTj8_5kp0L",
        "outputId": "28e42cc5-24b5-4182-b9c1-315ee3a6f54f"
      },
      "execution_count": null,
      "outputs": [
        {
          "output_type": "execute_result",
          "data": {
            "text/plain": [
              "0                       Toy Story\n",
              "3024                  Toy Story 2\n",
              "3336            Creature Comforts\n",
              "4797               Monsters, Inc.\n",
              "608                The Aristocats\n",
              "4272    Atlantis: The Lost Empire\n",
              "1131           The Wrong Trousers\n",
              "7805                     Garfield\n",
              "734                 A Close Shave\n",
              "9859                       Robots\n",
              "1437              Jungle 2 Jungle\n",
              "Name: title, dtype: object"
            ]
          },
          "metadata": {},
          "execution_count": 12
        }
      ]
    },
    {
      "cell_type": "code",
      "source": [
        "get_recommendations('Garfield', plot=1, meta=1)"
      ],
      "metadata": {
        "colab": {
          "base_uri": "https://localhost:8080/"
        },
        "id": "vHF9EIcVTZNq",
        "outputId": "00113a72-7989-44ea-8b58-b81bef716ba8"
      },
      "execution_count": null,
      "outputs": [
        {
          "output_type": "execute_result",
          "data": {
            "text/plain": [
              "7805              Garfield\n",
              "3336     Creature Comforts\n",
              "6713             Beethoven\n",
              "8891         Peter-No-Tail\n",
              "1450      Cats Don't Dance\n",
              "734          A Close Shave\n",
              "608         The Aristocats\n",
              "3024           Toy Story 2\n",
              "6269        Daddy Day Care\n",
              "0                Toy Story\n",
              "8944    Asterix vs. Caesar\n",
              "Name: title, dtype: object"
            ]
          },
          "metadata": {},
          "execution_count": 13
        }
      ]
    }
  ]
}