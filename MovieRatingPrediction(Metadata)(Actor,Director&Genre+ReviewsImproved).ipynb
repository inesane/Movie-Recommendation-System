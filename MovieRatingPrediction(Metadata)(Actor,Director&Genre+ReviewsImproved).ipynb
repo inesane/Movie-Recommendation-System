{
  "nbformat": 4,
  "nbformat_minor": 0,
  "metadata": {
    "colab": {
      "provenance": []
    },
    "kernelspec": {
      "name": "python3",
      "display_name": "Python 3"
    },
    "language_info": {
      "name": "python"
    }
  },
  "cells": [
    {
      "cell_type": "code",
      "source": [
        "!gdown --id 1zu97TwzyU2T8OVvQ2VMof-XqHDX_fxPf\n",
        "!gdown --id 1SjOTIPYvYK9yECH8-SDSP3b7FtqjHYzZ"
      ],
      "metadata": {
        "colab": {
          "base_uri": "https://localhost:8080/"
        },
        "id": "cSYXMRpjunyX",
        "outputId": "f10bc9f7-c9d4-4aef-ef63-f7bd1cabc464"
      },
      "execution_count": 1,
      "outputs": [
        {
          "output_type": "stream",
          "name": "stdout",
          "text": [
            "/usr/local/lib/python3.7/dist-packages/gdown/cli.py:131: FutureWarning: Option `--id` was deprecated in version 4.3.1 and will be removed in 5.0. You don't need to pass it anymore to use a file ID.\n",
            "  category=FutureWarning,\n",
            "Downloading...\n",
            "From: https://drive.google.com/uc?id=1zu97TwzyU2T8OVvQ2VMof-XqHDX_fxPf\n",
            "To: /content/data_merged.csv\n",
            "100% 227M/227M [00:02<00:00, 102MB/s]\n",
            "/usr/local/lib/python3.7/dist-packages/gdown/cli.py:131: FutureWarning: Option `--id` was deprecated in version 4.3.1 and will be removed in 5.0. You don't need to pass it anymore to use a file ID.\n",
            "  category=FutureWarning,\n",
            "Downloading...\n",
            "From: https://drive.google.com/uc?id=1SjOTIPYvYK9yECH8-SDSP3b7FtqjHYzZ\n",
            "To: /content/analysed.csv\n",
            "100% 71.1M/71.1M [00:01<00:00, 57.7MB/s]\n"
          ]
        }
      ]
    },
    {
      "cell_type": "code",
      "source": [
        "import pandas as pd\n",
        "import numpy as np\n",
        "\n",
        "from keras.utils import to_categorical\n",
        "from sklearn.model_selection import train_test_split\n",
        "\n",
        "from sklearn.linear_model import (\n",
        "    LinearRegression, \n",
        "    SGDRegressor, \n",
        "    LogisticRegression\n",
        ")\n",
        "from sklearn.svm import LinearSVC\n",
        "\n",
        "# from sklearn.preprocessing import normalize\n",
        "from sklearn.pipeline import make_pipeline\n",
        "from sklearn.preprocessing import StandardScaler\n",
        "\n",
        "SEED = 42\n",
        "TEST_SIZE = 0.2"
      ],
      "metadata": {
        "id": "BmA9NeprvQ5h"
      },
      "execution_count": 2,
      "outputs": []
    },
    {
      "cell_type": "code",
      "source": [
        "data = pd.read_csv('./data_merged.csv')\n",
        "reviews = pd.read_csv('./analysed.csv')"
      ],
      "metadata": {
        "id": "h6ZY389kvQMO"
      },
      "execution_count": 23,
      "outputs": []
    },
    {
      "cell_type": "code",
      "source": [
        "print(data.keys())\n",
        "print(reviews.keys())"
      ],
      "metadata": {
        "colab": {
          "base_uri": "https://localhost:8080/"
        },
        "id": "h_DL-je5OvOI",
        "outputId": "2493d3d0-de99-469e-ec50-e2cc0761fe57"
      },
      "execution_count": 24,
      "outputs": [
        {
          "output_type": "stream",
          "name": "stdout",
          "text": [
            "Index(['Unnamed: 0', 'adult', 'belongs_to_collection', 'budget', 'genres',\n",
            "       'id', 'original_title', 'overview', 'popularity',\n",
            "       'production_companies', 'production_countries', 'release_date',\n",
            "       'revenue', 'runtime', 'status', 'title', 'video', 'vote_average',\n",
            "       'vote_count', 'cast', 'crew', 'keywords'],\n",
            "      dtype='object')\n",
            "Index(['Unnamed: 0', 'Movie', 'Review', 'Results'], dtype='object')\n"
          ]
        }
      ]
    },
    {
      "cell_type": "code",
      "source": [
        "def get_filtered_X(X, relevant_columns):\n",
        "    non_relevant_cols = [col for col in data.columns if col not in relevant_columns]\n",
        "    \n",
        "    for col in non_relevant_cols:\n",
        "        X = X.drop(col, axis=1)\n",
        "    \n",
        "    return X.to_numpy()"
      ],
      "metadata": {
        "id": "OdnUmPUkuwkL"
      },
      "execution_count": 5,
      "outputs": []
    },
    {
      "cell_type": "code",
      "source": [
        "import re\n",
        "import ast\n",
        "\n",
        "for i in range(len(data['crew'])): \n",
        "  names = \"\"\n",
        "  try:\n",
        "    data['crew'][i] = data['crew'][i].replace(\"[\",\"\").replace(\"]\",\"\").replace(\"},\",\"} -\")\n",
        "    x = data['crew'][i].split(\" - \")\n",
        "    for j in x:\n",
        "      try:\n",
        "        j = ast.literal_eval(j)\n",
        "        names = names + j['name'].lower() + \":\"\n",
        "      except:\n",
        "        pass\n",
        "    data['crew'][i] = names\n",
        "  except:\n",
        "    data['crew'][i] = \"\"\n",
        "\n",
        "for i in range(len(data['cast'])): \n",
        "  names = \"\"\n",
        "  try:\n",
        "    data['cast'][i] = data['cast'][i].replace(\"[\",\"\").replace(\"]\",\"\").replace(\"},\",\"} -\")\n",
        "    x = data['cast'][i].split(\" - \")\n",
        "    for j in x:\n",
        "      try:\n",
        "        j = ast.literal_eval(j)\n",
        "        names = names + j['name'].lower() + \":\"\n",
        "      except:\n",
        "        pass\n",
        "    data['cast'][i] = names\n",
        "  except:\n",
        "    data['cast'][i] = \"\"\n",
        "\n",
        "for i in range(len(data['genres'])): \n",
        "  names = \"\"\n",
        "  try:\n",
        "    data['genres'][i] = data['genres'][i].replace(\"[\",\"\").replace(\"]\",\"\").replace(\"},\",\"} -\")\n",
        "    x = data['genres'][i].split(\" - \")\n",
        "    for j in x:\n",
        "      try:\n",
        "        j = ast.literal_eval(j)\n",
        "        names = names + j['name'].lower() + \":\"\n",
        "      except:\n",
        "        pass\n",
        "    data['genres'][i] = names\n",
        "  except:\n",
        "    data['genres'][i] = \"\"\n",
        "    \n"
      ],
      "metadata": {
        "colab": {
          "base_uri": "https://localhost:8080/"
        },
        "id": "ww4Hk53tYOxc",
        "outputId": "2ec22770-a8d8-4951-ee75-911919579025"
      },
      "execution_count": 6,
      "outputs": [
        {
          "output_type": "stream",
          "name": "stderr",
          "text": [
            "/usr/local/lib/python3.7/dist-packages/ipykernel_launcher.py:7: SettingWithCopyWarning: \n",
            "A value is trying to be set on a copy of a slice from a DataFrame\n",
            "\n",
            "See the caveats in the documentation: https://pandas.pydata.org/pandas-docs/stable/user_guide/indexing.html#returning-a-view-versus-a-copy\n",
            "  import sys\n",
            "/usr/local/lib/python3.7/dist-packages/ipykernel_launcher.py:15: SettingWithCopyWarning: \n",
            "A value is trying to be set on a copy of a slice from a DataFrame\n",
            "\n",
            "See the caveats in the documentation: https://pandas.pydata.org/pandas-docs/stable/user_guide/indexing.html#returning-a-view-versus-a-copy\n",
            "  from ipykernel import kernelapp as app\n",
            "/usr/local/lib/python3.7/dist-packages/ipykernel_launcher.py:22: SettingWithCopyWarning: \n",
            "A value is trying to be set on a copy of a slice from a DataFrame\n",
            "\n",
            "See the caveats in the documentation: https://pandas.pydata.org/pandas-docs/stable/user_guide/indexing.html#returning-a-view-versus-a-copy\n",
            "/usr/local/lib/python3.7/dist-packages/ipykernel_launcher.py:30: SettingWithCopyWarning: \n",
            "A value is trying to be set on a copy of a slice from a DataFrame\n",
            "\n",
            "See the caveats in the documentation: https://pandas.pydata.org/pandas-docs/stable/user_guide/indexing.html#returning-a-view-versus-a-copy\n",
            "/usr/local/lib/python3.7/dist-packages/ipykernel_launcher.py:37: SettingWithCopyWarning: \n",
            "A value is trying to be set on a copy of a slice from a DataFrame\n",
            "\n",
            "See the caveats in the documentation: https://pandas.pydata.org/pandas-docs/stable/user_guide/indexing.html#returning-a-view-versus-a-copy\n",
            "/usr/local/lib/python3.7/dist-packages/ipykernel_launcher.py:45: SettingWithCopyWarning: \n",
            "A value is trying to be set on a copy of a slice from a DataFrame\n",
            "\n",
            "See the caveats in the documentation: https://pandas.pydata.org/pandas-docs/stable/user_guide/indexing.html#returning-a-view-versus-a-copy\n"
          ]
        }
      ]
    },
    {
      "cell_type": "code",
      "source": [
        "movie_reviews = {}\n",
        "for ind,i in enumerate(reviews['Movie']):\n",
        "  movie_reviews[i.lower()] = reviews['Results'][ind] "
      ],
      "metadata": {
        "id": "KPM2s7wMVnBr"
      },
      "execution_count": 29,
      "outputs": []
    },
    {
      "cell_type": "code",
      "source": [
        "Cast = []\n",
        "Actors = {}\n",
        "Directors = {}\n",
        "Genres = {}\n",
        "\n",
        "Actors2 = {}\n",
        "Directors2 = {}\n",
        "Genres2 = {}\n",
        "Crew = []\n",
        "Genre = []\n",
        "\n",
        "Reviews = []\n",
        "# #weighed rating \n",
        "# C = data['vote_average'].mean()\n",
        "# m = data['vote_count'].quantile(0.9)\n",
        "def extract_feats():\n",
        "  top_directors = ['quentin tarantino', 'christopher nolan', 'martin scorsese', 'steven spielberg']\n",
        "  top_genres = ['adventure', 'science fiction', 'thriller', 'drama', 'action', 'fantasy']\n",
        "  # genre_matrix = {'adventure' : 0.8, 'science fiction' : 0.55, 'thriller' : 0.6, 'drama': 0.7, 'action' : 0.5 , 'fantasy': 0.65}\n",
        "  top_actors = ['leonardo dicaprio', 'tom hanks', 'tom cruise', 'jack nicholson', 'christian bale', 'brad pitt', 'al pacino']\n",
        "  \n",
        "  tot = len(data['cast'])\n",
        "  for ind,(a,d,g, v) in enumerate(list(zip(data['cast'],data['crew'],data['genres'],data['vote_average']))):\n",
        "    s = str(data['title'][ind])\n",
        "    s = s.lower()\n",
        "\n",
        "    if s in list(movie_reviews.keys()):\n",
        "      Reviews.append(movie_reviews[s])\n",
        "    else:\n",
        "      Reviews.append(0)\n",
        "    a = a.split(':')\n",
        "    d = d.split(':')\n",
        "    g = g.split(':')\n",
        "    for j in a:\n",
        "      if j not in Actors.keys():\n",
        "        Actors[j] = 0\n",
        "        Actors2[j] = 0  \n",
        "      Actors[j] += v\n",
        "      Actors2[j] += 1\n",
        "\n",
        "    \n",
        "    for j in d:\n",
        "      if j not in Directors.keys():\n",
        "        Directors[j] = 0\n",
        "        Directors2[j] = 0  \n",
        "\n",
        "      Directors[j] += v\n",
        "      Directors2[j] += 1\n",
        "\n",
        "    \n",
        "    for j in g:\n",
        "      if j not in Genres.keys():\n",
        "        Genres[j] = 0  \n",
        "        Genres2[j] = 0  \n",
        "\n",
        "      Genres[j] += v\n",
        "      Genres2[j] += 1\n",
        "\n",
        "\n",
        "\n",
        "  for i in Actors.keys():\n",
        "    if Actors2[i] != 0:\n",
        "      Actors[i] = Actors[i]/Actors2[i]\n",
        "    else:\n",
        "      Actors[i] = 0\n",
        "\n",
        "  for i in Directors.keys():\n",
        "    if Directors2[i] != 0:\n",
        "      Directors[i] = Directors[i]/Directors2[i]\n",
        "    else:\n",
        "      Directors[i] = 0\n",
        "\n",
        "  for i in Genres.keys():\n",
        "   if Genres2[i] != 0:\n",
        "      Genres[i] = Genres[i]/Genres2[i]\n",
        "   else:\n",
        "      Genres[i] = 0\n",
        "\n",
        "  for i in data['cast']:\n",
        "    i = i.split(':')\n",
        "    cast = 0\n",
        "    for j in i:\n",
        "      cast += Actors[j]/len(i)\n",
        "    Cast.append(cast)\n",
        "\n",
        "  for i in data['crew']:\n",
        "    i = i.split(':')\n",
        "    crew = 0\n",
        "    for j in i:\n",
        "      crew += Directors[j]/len(i)\n",
        "    Crew.append(crew)\n",
        "\n",
        "  for i in data['genres']:\n",
        "    i = i.split(':')\n",
        "    genre = 0\n",
        "    for j in i:\n",
        "      genre += Genres[j]/len(i)\n",
        "    Genre.append(genre)\n",
        "\n",
        "extract_feats()\n",
        "data = data.fillna(0)\n",
        "data['release_date'] = data['release_date'].apply(\n",
        "    lambda x: 2022 - int(str(x)[:4])\n",
        ")\n",
        "\n",
        "Revenue = list(data['revenue'])  \n",
        "Budget = list(data['budget'])\n",
        "Runtime = list(data['runtime'])\n",
        "Popularity = list(data['popularity'])\n",
        "Release_date = list(data['release_date'])\n",
        "\n"
      ],
      "metadata": {
        "id": "m6pysivhVzpJ"
      },
      "execution_count": 48,
      "outputs": []
    },
    {
      "cell_type": "code",
      "source": [],
      "metadata": {
        "id": "b3EV6_flS64z"
      },
      "execution_count": null,
      "outputs": []
    },
    {
      "cell_type": "code",
      "source": [
        "print(Cast[0:100])"
      ],
      "metadata": {
        "colab": {
          "base_uri": "https://localhost:8080/"
        },
        "id": "nsEpPBUDU_g0",
        "outputId": "75307281-f766-4b47-8135-96ce14f506ef"
      },
      "execution_count": 63,
      "outputs": [
        {
          "output_type": "stream",
          "name": "stdout",
          "text": [
            "[6.415721120706928, 6.244613728551458, 5.991510435591308, 5.882731541892081, 5.840194770329913, 6.5276443186652955, 6.088467936443693, 5.758765461407177, 5.6329430368276885, 6.097295450170371, 5.993686465331725, 5.716304914430656, 6.222628097240219, 6.193896331458127, 5.861663746123194, 6.674362106446155, 6.162129226274916, 6.024877345296905, 5.88688067702608, 5.781676483378675, 5.970715989280489, 6.0432954805056776, 5.864012726968815, 5.846221311369903, 5.959704355047743, 6.255004399235418, 5.989508389897868, 6.4342004175277205, 6.586921282238336, 6.224688982166492, 6.072300990864213, 6.676707440224041, 6.008361814624775, 5.891966473992257, 6.106976790154796, 6.386572893794507, 4.836837515155508, 5.756303055870714, 5.936727898982463, 6.130551544055439, 6.1992927896755115, 6.027958709212359, 5.939996301234487, 5.569780289359294, 6.15202131550353, 6.06176505576267, 6.67235123707004, 6.092277172859678, 5.5402838509427585, 6.513856522446879, 5.621011576093241, 6.033157625416457, 6.480522486396952, 5.457163406731786, 5.757781984979259, 5.075516861467665, 5.962101829648159, 6.325803705486137, 5.899099204427705, 5.8069199741785, 5.789215120331502, 6.160065576778979, 5.893359280118916, 5.514710946885996, 5.346506091385149, 4.94671074840319, 5.728334366640651, 5.93324968723089, 6.035183942335566, 6.226340975699492, 5.443011981506655, 6.030634669359435, 6.167772260647939, 5.647803729279568, 5.183790256001617, 5.835841587062271, 6.21045541155116, 5.896324421627984, 5.7839527532681725, 6.367264624603772, 5.941042966585739, 6.168544298544341, 5.411241929698769, 4.199610984783716, 5.951981788552408, 5.914943219277551, 5.640922222773728, 5.838080223008284, 5.928225910463855, 5.9995884236917325, 5.981091483657706, 5.482114183714933, 6.154661729301266, 5.7953840743702925, 6.341469420005673, 6.558707228719354, 5.830896458807624, 6.061628444958273, 5.884721877192838, 6.147233903430535]\n"
          ]
        }
      ]
    },
    {
      "cell_type": "code",
      "source": [
        "#normalize\n",
        "\n",
        "r_mean = np.mean(np.array(Revenue))\n",
        "r_max = np.max(np.array(Revenue))\n",
        "\n",
        "for i in range(len(Revenue)):\n",
        "  Revenue[i] = (Revenue[i] - r_mean)/r_max\n",
        "\n",
        "\n",
        "r_mean = np.mean(np.array(Budget))\n",
        "r_max = np.max(np.array(Budget))\n",
        "\n",
        "for i in range(len(Budget)):\n",
        "  Budget[i] = (Budget[i] - r_mean)/r_max\n"
      ],
      "metadata": {
        "id": "lRAEUOXwuMgF"
      },
      "execution_count": 60,
      "outputs": []
    },
    {
      "cell_type": "code",
      "source": [
        "X = np.array(list(zip(Revenue,Budget,Genre,Cast,Crew, Runtime,Popularity,Reviews)))\n",
        "y = np.array(list(data['vote_average']))\n",
        "print(y.shape)"
      ],
      "metadata": {
        "colab": {
          "base_uri": "https://localhost:8080/"
        },
        "id": "5CO9-1ChwWTq",
        "outputId": "17198f2d-6056-4fbf-ccb0-88aee6bdc613"
      },
      "execution_count": 61,
      "outputs": [
        {
          "output_type": "stream",
          "name": "stdout",
          "text": [
            "(46628,)\n"
          ]
        }
      ]
    },
    {
      "cell_type": "code",
      "source": [
        "def process(X, y):\n",
        "    new_X, new_y = [], []\n",
        "    \n",
        "    for Xi, yi in zip(X, y):\n",
        "        if Xi[0] <= 0 or Xi[1] <= 0: continue\n",
        "\n",
        "        new_X.append(Xi)\n",
        "        new_y.append(yi)\n",
        "\n",
        "    return new_X, new_y\n",
        "\n",
        "X, y = process(X, y)\n",
        "y = np.array(y)\n",
        "print(len(X), len(y))"
      ],
      "metadata": {
        "colab": {
          "base_uri": "https://localhost:8080/"
        },
        "id": "Q284I7VXx1AM",
        "outputId": "570eec40-a75c-42b3-ec8a-9e28683f3964"
      },
      "execution_count": 62,
      "outputs": [
        {
          "output_type": "stream",
          "name": "stdout",
          "text": [
            "3399 3399\n"
          ]
        }
      ]
    },
    {
      "cell_type": "code",
      "source": [
        "\n",
        "# rb = [float(i/j) for i,j,k,l,m,n,o,p in X]\n",
        "# Genre = [k for i,j,k,l,m,n,o,p in X]\n",
        "# Cast = [l for i,j,k,l,m,n,o,p in X]\n",
        "# Crew = [m for i,j,k,l,m,n,o,p in X]\n",
        "# Runtime = [n for i,j,k,l,m,n,o,p in X]\n",
        "# Popularity = [o for i,j,k,l,m,n,o,p in X]\n",
        "# Release_date = [p for i,j,k,l,m,n,o,p in X]\n",
        "\n",
        "# X = np.array(list(zip(rb,Genre,Cast,Crew, Runtime,Popularity,Release_date,)))\n",
        "\n",
        "# print(X.shape)\n"
      ],
      "metadata": {
        "id": "T4dWnAxnqnln"
      },
      "execution_count": 12,
      "outputs": []
    },
    {
      "cell_type": "code",
      "source": [
        "def regression(X, y, choice='lr'):\n",
        "    X_train, X_test, y_train, y_test = train_test_split(\n",
        "       X, y, test_size=TEST_SIZE, random_state=SEED\n",
        "    )\n",
        "    regressor = None\n",
        "    if choice == 'lr':\n",
        "        regressor = LinearRegression()\n",
        "    elif choice == 'sgd':\n",
        "        regressor = SGDRegressor(max_iter=1000, tol=1e-3)\n",
        "    else:\n",
        "        raise NotImplementedError\n",
        "\n",
        "    model = make_pipeline(StandardScaler(), regressor)\n",
        "    model.fit(X_train, y_train)\n",
        "    print(f\"{choice} score: {model.score(X_test, y_test)}\")\n",
        "    return"
      ],
      "metadata": {
        "id": "1-1WGoRu2oNC"
      },
      "execution_count": 64,
      "outputs": []
    },
    {
      "cell_type": "code",
      "source": [
        "regression(X, y, 'lr')\n",
        "regression(X, y, 'sgd')"
      ],
      "metadata": {
        "colab": {
          "base_uri": "https://localhost:8080/"
        },
        "id": "MpsWaf2L3Rl0",
        "outputId": "1ba07544-6cf1-486c-a497-b09b9b5beaef"
      },
      "execution_count": 65,
      "outputs": [
        {
          "output_type": "stream",
          "name": "stdout",
          "text": [
            "lr score: 0.9278686622657609\n",
            "sgd score: 0.92793346530979\n"
          ]
        }
      ]
    },
    {
      "cell_type": "code",
      "source": [],
      "metadata": {
        "id": "55Sw7LjzF1Iq"
      },
      "execution_count": null,
      "outputs": []
    },
    {
      "cell_type": "code",
      "source": [
        "def convert_to_categorical(y):\n",
        "    y = list(map(int, y))\n",
        "    y = to_categorical(y)\n",
        "    return y\n",
        "\n",
        "def classification(X, y, choice='lr'):\n",
        "    y = list(map(int, y))\n",
        "\n",
        "    X_train, X_test, y_train, y_test = train_test_split(\n",
        "       X, y, test_size=TEST_SIZE, random_state=SEED\n",
        "    )\n",
        "\n",
        "    classifier = None\n",
        "    if choice == 'lr':\n",
        "        classifier = LogisticRegression(max_iter=5000)\n",
        "    elif choice == 'svc':\n",
        "        classifier = LinearSVC(max_iter=5000)\n",
        "    else:\n",
        "        raise NotImplementedError\n",
        "\n",
        "    model = make_pipeline(StandardScaler(), classifier)\n",
        "    model.fit(X_train, y_train)\n",
        "    print(f\"{choice} score: {model.score(X_test, y_test)}\")\n",
        "    return model"
      ],
      "metadata": {
        "id": "XDHnoct03f57"
      },
      "execution_count": null,
      "outputs": []
    },
    {
      "cell_type": "code",
      "source": [
        "lr = classification(X, y, 'lr')\n",
        "svc = classification(X, y, 'svc')"
      ],
      "metadata": {
        "id": "d4t7HR_W1h8V"
      },
      "execution_count": null,
      "outputs": []
    },
    {
      "cell_type": "code",
      "source": [
        "from joblib import dump\n",
        "\n",
        "dump(lr, 'logreg.joblib')\n",
        "dump(svc, 'svc.joblib')"
      ],
      "metadata": {
        "colab": {
          "base_uri": "https://localhost:8080/"
        },
        "id": "njqQzbwZmgby",
        "outputId": "4cd3f085-11c5-452c-c800-96f88bd18e4b"
      },
      "execution_count": null,
      "outputs": [
        {
          "output_type": "execute_result",
          "data": {
            "text/plain": [
              "['svc.joblib']"
            ]
          },
          "metadata": {},
          "execution_count": 121
        }
      ]
    }
  ]
}