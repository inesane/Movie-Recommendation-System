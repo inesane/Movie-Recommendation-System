{
  "nbformat": 4,
  "nbformat_minor": 0,
  "metadata": {
    "colab": {
      "provenance": []
    },
    "kernelspec": {
      "name": "python3",
      "display_name": "Python 3"
    },
    "language_info": {
      "name": "python"
    }
  },
  "cells": [
    {
      "cell_type": "code",
      "source": [
        "%%bash\n",
        "pip install sentence-transformers"
      ],
      "metadata": {
        "colab": {
          "base_uri": "https://localhost:8080/"
        },
        "id": "nqfkhYbrah3S",
        "outputId": "292de8d6-a2d5-4550-97f6-c270ea66c43e"
      },
      "execution_count": null,
      "outputs": [
        {
          "output_type": "stream",
          "name": "stdout",
          "text": [
            "Looking in indexes: https://pypi.org/simple, https://us-python.pkg.dev/colab-wheels/public/simple/\n",
            "Collecting sentence-transformers\n",
            "  Downloading sentence-transformers-2.2.2.tar.gz (85 kB)\n",
            "Collecting transformers<5.0.0,>=4.6.0\n",
            "  Downloading transformers-4.24.0-py3-none-any.whl (5.5 MB)\n",
            "Requirement already satisfied: tqdm in /usr/local/lib/python3.7/dist-packages (from sentence-transformers) (4.64.1)\n",
            "Requirement already satisfied: torch>=1.6.0 in /usr/local/lib/python3.7/dist-packages (from sentence-transformers) (1.12.1+cu113)\n",
            "Requirement already satisfied: torchvision in /usr/local/lib/python3.7/dist-packages (from sentence-transformers) (0.13.1+cu113)\n",
            "Requirement already satisfied: numpy in /usr/local/lib/python3.7/dist-packages (from sentence-transformers) (1.21.6)\n",
            "Requirement already satisfied: scikit-learn in /usr/local/lib/python3.7/dist-packages (from sentence-transformers) (1.0.2)\n",
            "Requirement already satisfied: scipy in /usr/local/lib/python3.7/dist-packages (from sentence-transformers) (1.7.3)\n",
            "Requirement already satisfied: nltk in /usr/local/lib/python3.7/dist-packages (from sentence-transformers) (3.7)\n",
            "Collecting sentencepiece\n",
            "  Downloading sentencepiece-0.1.97-cp37-cp37m-manylinux_2_17_x86_64.manylinux2014_x86_64.whl (1.3 MB)\n",
            "Collecting huggingface-hub>=0.4.0\n",
            "  Downloading huggingface_hub-0.10.1-py3-none-any.whl (163 kB)\n",
            "Requirement already satisfied: requests in /usr/local/lib/python3.7/dist-packages (from huggingface-hub>=0.4.0->sentence-transformers) (2.23.0)\n",
            "Requirement already satisfied: importlib-metadata in /usr/local/lib/python3.7/dist-packages (from huggingface-hub>=0.4.0->sentence-transformers) (4.13.0)\n",
            "Requirement already satisfied: pyyaml>=5.1 in /usr/local/lib/python3.7/dist-packages (from huggingface-hub>=0.4.0->sentence-transformers) (6.0)\n",
            "Requirement already satisfied: typing-extensions>=3.7.4.3 in /usr/local/lib/python3.7/dist-packages (from huggingface-hub>=0.4.0->sentence-transformers) (4.1.1)\n",
            "Requirement already satisfied: filelock in /usr/local/lib/python3.7/dist-packages (from huggingface-hub>=0.4.0->sentence-transformers) (3.8.0)\n",
            "Requirement already satisfied: packaging>=20.9 in /usr/local/lib/python3.7/dist-packages (from huggingface-hub>=0.4.0->sentence-transformers) (21.3)\n",
            "Requirement already satisfied: pyparsing!=3.0.5,>=2.0.2 in /usr/local/lib/python3.7/dist-packages (from packaging>=20.9->huggingface-hub>=0.4.0->sentence-transformers) (3.0.9)\n",
            "Requirement already satisfied: regex!=2019.12.17 in /usr/local/lib/python3.7/dist-packages (from transformers<5.0.0,>=4.6.0->sentence-transformers) (2022.6.2)\n",
            "Collecting tokenizers!=0.11.3,<0.14,>=0.11.1\n",
            "  Downloading tokenizers-0.13.2-cp37-cp37m-manylinux_2_17_x86_64.manylinux2014_x86_64.whl (7.6 MB)\n",
            "Requirement already satisfied: zipp>=0.5 in /usr/local/lib/python3.7/dist-packages (from importlib-metadata->huggingface-hub>=0.4.0->sentence-transformers) (3.10.0)\n",
            "Requirement already satisfied: joblib in /usr/local/lib/python3.7/dist-packages (from nltk->sentence-transformers) (1.2.0)\n",
            "Requirement already satisfied: click in /usr/local/lib/python3.7/dist-packages (from nltk->sentence-transformers) (7.1.2)\n",
            "Requirement already satisfied: chardet<4,>=3.0.2 in /usr/local/lib/python3.7/dist-packages (from requests->huggingface-hub>=0.4.0->sentence-transformers) (3.0.4)\n",
            "Requirement already satisfied: idna<3,>=2.5 in /usr/local/lib/python3.7/dist-packages (from requests->huggingface-hub>=0.4.0->sentence-transformers) (2.10)\n",
            "Requirement already satisfied: certifi>=2017.4.17 in /usr/local/lib/python3.7/dist-packages (from requests->huggingface-hub>=0.4.0->sentence-transformers) (2022.9.24)\n",
            "Requirement already satisfied: urllib3!=1.25.0,!=1.25.1,<1.26,>=1.21.1 in /usr/local/lib/python3.7/dist-packages (from requests->huggingface-hub>=0.4.0->sentence-transformers) (1.24.3)\n",
            "Requirement already satisfied: threadpoolctl>=2.0.0 in /usr/local/lib/python3.7/dist-packages (from scikit-learn->sentence-transformers) (3.1.0)\n",
            "Requirement already satisfied: pillow!=8.3.*,>=5.3.0 in /usr/local/lib/python3.7/dist-packages (from torchvision->sentence-transformers) (7.1.2)\n",
            "Building wheels for collected packages: sentence-transformers\n",
            "  Building wheel for sentence-transformers (setup.py): started\n",
            "  Building wheel for sentence-transformers (setup.py): finished with status 'done'\n",
            "  Created wheel for sentence-transformers: filename=sentence_transformers-2.2.2-py3-none-any.whl size=125938 sha256=d761a28cd31105b37042bce49d8ade7b711e4e90f92c025b7f90206e6f188c34\n",
            "  Stored in directory: /root/.cache/pip/wheels/bf/06/fb/d59c1e5bd1dac7f6cf61ec0036cc3a10ab8fecaa6b2c3d3ee9\n",
            "Successfully built sentence-transformers\n",
            "Installing collected packages: tokenizers, huggingface-hub, transformers, sentencepiece, sentence-transformers\n",
            "Successfully installed huggingface-hub-0.10.1 sentence-transformers-2.2.2 sentencepiece-0.1.97 tokenizers-0.13.2 transformers-4.24.0\n"
          ]
        }
      ]
    },
    {
      "cell_type": "code",
      "execution_count": null,
      "metadata": {
        "id": "L9dmDPFBZILG"
      },
      "outputs": [],
      "source": [
        "import pandas as pd\n",
        "import numpy as np\n",
        "\n",
        "from tqdm import tqdm\n",
        "\n",
        "from sklearn.feature_extraction.text import TfidfVectorizer\n",
        "# from sklearn.linear_model import LinearRegression\n",
        "from sklearn.model_selection import train_test_split\n",
        "from sklearn.metrics import r2_score\n",
        "\n",
        "import torch\n",
        "\n",
        "from sentence_transformers import SentenceTransformer\n",
        "\n",
        "import matplotlib.pyplot as plt\n",
        "\n",
        "# for data\n",
        "from google.colab import drive"
      ]
    },
    {
      "cell_type": "markdown",
      "source": [
        "# Data & Preprocessing"
      ],
      "metadata": {
        "id": "yRQzMcq_ZhGm"
      }
    },
    {
      "cell_type": "code",
      "source": [
        "drive.mount('/content/drive')"
      ],
      "metadata": {
        "colab": {
          "base_uri": "https://localhost:8080/"
        },
        "id": "NQv_0CVVZQ-6",
        "outputId": "e78d11aa-5e77-4b0f-e26d-3d33d8ed46ec"
      },
      "execution_count": null,
      "outputs": [
        {
          "output_type": "stream",
          "name": "stdout",
          "text": [
            "Mounted at /content/drive\n"
          ]
        }
      ]
    },
    {
      "cell_type": "code",
      "source": [
        "credits = pd.read_csv('./drive/MyDrive/data/tmdb_5000_credits.csv')\n",
        "movies = pd.read_csv('./drive/MyDrive/data/tmdb_5000_movies.csv')"
      ],
      "metadata": {
        "id": "3NB62h6LZU5F"
      },
      "execution_count": null,
      "outputs": []
    },
    {
      "cell_type": "code",
      "source": [
        "credits.columns = ['id','tittle','cast','crew']\n",
        "movies = movies.merge(credits, on='id')"
      ],
      "metadata": {
        "id": "Igv5FUbmZc1X"
      },
      "execution_count": null,
      "outputs": []
    },
    {
      "cell_type": "code",
      "source": [
        "movies['overview'] = movies['overview'].fillna('')"
      ],
      "metadata": {
        "id": "VPX60uiwZf5p"
      },
      "execution_count": null,
      "outputs": []
    },
    {
      "cell_type": "code",
      "source": [
        "movies.columns"
      ],
      "metadata": {
        "colab": {
          "base_uri": "https://localhost:8080/"
        },
        "id": "XP89MI4rZhmV",
        "outputId": "79127276-193b-4f2a-84b7-ff55b7238969"
      },
      "execution_count": null,
      "outputs": [
        {
          "output_type": "execute_result",
          "data": {
            "text/plain": [
              "Index(['budget', 'genres', 'homepage', 'id', 'keywords', 'original_language',\n",
              "       'original_title', 'overview', 'popularity', 'production_companies',\n",
              "       'production_countries', 'release_date', 'revenue', 'runtime',\n",
              "       'spoken_languages', 'status', 'tagline', 'title', 'vote_average',\n",
              "       'vote_count', 'tittle', 'cast', 'crew'],\n",
              "      dtype='object')"
            ]
          },
          "metadata": {},
          "execution_count": 70
        }
      ]
    },
    {
      "cell_type": "code",
      "source": [
        "movies[(movies['vote_average'] < 4) & (movies['vote_average'] > 0)]"
      ],
      "metadata": {
        "colab": {
          "base_uri": "https://localhost:8080/",
          "height": 9931
        },
        "id": "re3iUS6XZm7e",
        "outputId": "4cd7516d-3c9c-4c3a-fa79-04967b9f44b1"
      },
      "execution_count": null,
      "outputs": [
        {
          "output_type": "execute_result",
          "data": {
            "text/plain": [
              "        budget                                             genres  \\\n",
              "272   90000000  [{\"id\": 35, \"name\": \"Comedy\"}, {\"id\": 10749, \"...   \n",
              "309   84000000  [{\"id\": 14, \"name\": \"Fantasy\"}, {\"id\": 35, \"na...   \n",
              "480   44000000  [{\"id\": 28, \"name\": \"Action\"}, {\"id\": 878, \"na...   \n",
              "503   76000000  [{\"id\": 28, \"name\": \"Action\"}, {\"id\": 12, \"nam...   \n",
              "601          0  [{\"id\": 28, \"name\": \"Action\"}, {\"id\": 878, \"na...   \n",
              "...        ...                                                ...   \n",
              "4741     75000           [{\"id\": 878, \"name\": \"Science Fiction\"}]   \n",
              "4764         0  [{\"id\": 53, \"name\": \"Thriller\"}, {\"id\": 18, \"n...   \n",
              "4765         0                     [{\"id\": 27, \"name\": \"Horror\"}]   \n",
              "4767     50000  [{\"id\": 53, \"name\": \"Thriller\"}, {\"id\": 27, \"n...   \n",
              "4791        13                     [{\"id\": 27, \"name\": \"Horror\"}]   \n",
              "\n",
              "                                               homepage      id  \\\n",
              "272                                                 NaN   24113   \n",
              "309                                                 NaN   10214   \n",
              "480                                                 NaN    5491   \n",
              "503                                                 NaN   17711   \n",
              "601                                                 NaN   11535   \n",
              "...                                                 ...     ...   \n",
              "4741                                                NaN  360188   \n",
              "4764                                                NaN  326576   \n",
              "4765  https://www.facebook.com/pages/Raymond-Did-It/...  228550   \n",
              "4767                                                NaN  290391   \n",
              "4791                      http://tincanmanthemovie.com/  157185   \n",
              "\n",
              "                                               keywords original_language  \\\n",
              "272   [{\"id\": 2301, \"name\": \"architect\"}, {\"id\": 345...                en   \n",
              "309   [{\"id\": 1009, \"name\": \"baby\"}, {\"id\": 2546, \"n...                en   \n",
              "480   [{\"id\": 818, \"name\": \"based on novel\"}, {\"id\":...                en   \n",
              "503   [{\"id\": 4414, \"name\": \"adventure\"}, {\"id\": 651...                en   \n",
              "601   [{\"id\": 554, \"name\": \"manager\"}, {\"id\": 1395, ...                en   \n",
              "...                                                 ...               ...   \n",
              "4741  [{\"id\": 1299, \"name\": \"monster\"}, {\"id\": 9970,...                en   \n",
              "4764                                                 []                en   \n",
              "4765  [{\"id\": 6270, \"name\": \"high school\"}, {\"id\": 9...                en   \n",
              "4767  [{\"id\": 9748, \"name\": \"revenge\"}, {\"id\": 9826,...                en   \n",
              "4791           [{\"id\": 14903, \"name\": \"home invasion\"}]                en   \n",
              "\n",
              "                            original_title  \\\n",
              "272                         Town & Country   \n",
              "309                        Son of the Mask   \n",
              "480                      Battlefield Earth   \n",
              "503   The Adventures of Rocky & Bullwinkle   \n",
              "601                             Rollerball   \n",
              "...                                    ...   \n",
              "4741                            Queen Crab   \n",
              "4764             Dawn of the Crescent Moon   \n",
              "4765                        Raymond Did It   \n",
              "4767                        Run, Hide, Die   \n",
              "4791                           Tin Can Man   \n",
              "\n",
              "                                               overview  popularity  \\\n",
              "272   Porter Stoddard is a well-known New York archi...    1.004579   \n",
              "309   Tim Avery, an aspiring cartoonist, finds himse...   17.815595   \n",
              "480   In the year 3000, man is no match for the Psyc...    7.891470   \n",
              "503   Rocky and Bullwinkle have been living off the ...    8.981427   \n",
              "601   From the director of Die Hard comes this high-...    9.306253   \n",
              "...                                                 ...         ...   \n",
              "4741  A meteor crashes into a quiet lake in the remo...    0.140989   \n",
              "4764  A group of college students travel to a small ...    0.049469   \n",
              "4765  Mentally challenged Raymond Rourke gets blamed...    0.160779   \n",
              "4767  On the anniversary weekend of the death of a y...    0.595809   \n",
              "4791  Recently dumped by his girlfirend for another ...    0.332679   \n",
              "\n",
              "                                   production_companies  ... runtime  \\\n",
              "272             [{\"name\": \"New Line Cinema\", \"id\": 12}]  ...   104.0   \n",
              "309   [{\"name\": \"New Line Cinema\", \"id\": 12}, {\"name...  ...    94.0   \n",
              "480   [{\"name\": \"Franchise Pictures\", \"id\": 1403}, {...  ...   118.0   \n",
              "503   [{\"name\": \"Universal Pictures\", \"id\": 33}, {\"n...  ...    88.0   \n",
              "601   [{\"name\": \"Atlas Entertainment\", \"id\": 507}, {...  ...    98.0   \n",
              "...                                                 ...  ...     ...   \n",
              "4741  [{\"name\": \"Polonia Brothers Entertainment\", \"i...  ...    90.0   \n",
              "4764                                                 []  ...    95.0   \n",
              "4765                                                 []  ...    83.0   \n",
              "4767  [{\"name\": \"Little Big Film Company\", \"id\": 260...  ...    75.0   \n",
              "4791  [{\"name\": \"Park Films\", \"id\": 21871}, {\"name\":...  ...    84.0   \n",
              "\n",
              "                                       spoken_languages    status  \\\n",
              "272            [{\"iso_639_1\": \"en\", \"name\": \"English\"}]  Released   \n",
              "309            [{\"iso_639_1\": \"en\", \"name\": \"English\"}]  Released   \n",
              "480   [{\"iso_639_1\": \"en\", \"name\": \"English\"}, {\"iso...  Released   \n",
              "503   [{\"iso_639_1\": \"ru\", \"name\": \"P\\u0443\\u0441\\u0...  Released   \n",
              "601   [{\"iso_639_1\": \"de\", \"name\": \"Deutsch\"}, {\"iso...  Released   \n",
              "...                                                 ...       ...   \n",
              "4741           [{\"iso_639_1\": \"en\", \"name\": \"English\"}]  Released   \n",
              "4764           [{\"iso_639_1\": \"en\", \"name\": \"English\"}]  Released   \n",
              "4765           [{\"iso_639_1\": \"en\", \"name\": \"English\"}]  Released   \n",
              "4767           [{\"iso_639_1\": \"en\", \"name\": \"English\"}]  Released   \n",
              "4791           [{\"iso_639_1\": \"en\", \"name\": \"English\"}]  Released   \n",
              "\n",
              "                                                tagline  \\\n",
              "272            There's no such thing as a small affair.   \n",
              "309                                         Who's next?   \n",
              "480                                Take Back The Planet   \n",
              "503             This summer it's not the same old bull.   \n",
              "601                                        Go Ballistic   \n",
              "...                                                 ...   \n",
              "4741                                                NaN   \n",
              "4764                               The past is present.   \n",
              "4765                             Mom's Pretty Mad At Me   \n",
              "4767  Five girls, one secret. Revenge stalks them in...   \n",
              "4791                    Everything You've Heard is True   \n",
              "\n",
              "                                     title vote_average vote_count  \\\n",
              "272                         Town & Country          3.7         16   \n",
              "309                        Son of the Mask          3.6        338   \n",
              "480                      Battlefield Earth          3.0        255   \n",
              "503   The Adventures of Rocky & Bullwinkle          3.9         87   \n",
              "601                             Rollerball          3.4        106   \n",
              "...                                    ...          ...        ...   \n",
              "4741                            Queen Crab          3.3          3   \n",
              "4764             Dawn of the Crescent Moon          2.0          1   \n",
              "4765                        Raymond Did It          3.2          8   \n",
              "4767                        Run, Hide, Die          3.5          2   \n",
              "4791                           Tin Can Man          2.0          1   \n",
              "\n",
              "                                    tittle  \\\n",
              "272                         Town & Country   \n",
              "309                        Son of the Mask   \n",
              "480                      Battlefield Earth   \n",
              "503   The Adventures of Rocky & Bullwinkle   \n",
              "601                             Rollerball   \n",
              "...                                    ...   \n",
              "4741                            Queen Crab   \n",
              "4764             Dawn of the Crescent Moon   \n",
              "4765                        Raymond Did It   \n",
              "4767                        Run, Hide, Die   \n",
              "4791                           Tin Can Man   \n",
              "\n",
              "                                                   cast  \\\n",
              "272   [{\"cast_id\": 3, \"character\": \"Porter Stoddard\"...   \n",
              "309   [{\"cast_id\": 1, \"character\": \"Tim Avery\", \"cre...   \n",
              "480   [{\"cast_id\": 11, \"character\": \"Terl\", \"credit_...   \n",
              "503   [{\"cast_id\": 1, \"character\": \"Natasha\", \"credi...   \n",
              "601   [{\"cast_id\": 1, \"character\": \"Jonathan Cross\",...   \n",
              "...                                                 ...   \n",
              "4741  [{\"cast_id\": 2, \"character\": \"Melissa Webber\",...   \n",
              "4764  [{\"cast_id\": 8, \"character\": \"Cyrus\", \"credit_...   \n",
              "4765  [{\"cast_id\": 2, \"character\": \"Raymond\", \"credi...   \n",
              "4767  [{\"cast_id\": 0, \"character\": \"Addison Davenpor...   \n",
              "4791  [{\"cast_id\": 1, \"character\": \"Dave\", \"credit_i...   \n",
              "\n",
              "                                                   crew  \n",
              "272   [{\"credit_id\": \"52fe4483c3a368484e02742d\", \"de...  \n",
              "309   [{\"credit_id\": \"52fe43439251416c75009b91\", \"de...  \n",
              "480   [{\"credit_id\": \"52fe4409c3a36847f807e759\", \"de...  \n",
              "503   [{\"credit_id\": \"593c9f81c3a3680f4201597d\", \"de...  \n",
              "601   [{\"credit_id\": \"54b88dfc92514148b00007aa\", \"de...  \n",
              "...                                                 ...  \n",
              "4741  [{\"credit_id\": \"562f43829251410a22008ae9\", \"de...  \n",
              "4764  [{\"credit_id\": \"54e889e7925141117c0014b7\", \"de...  \n",
              "4765  [{\"credit_id\": \"52fe4ecf9251416c75163381\", \"de...  \n",
              "4767  [{\"credit_id\": \"5407ef980e0a26267c000b1b\", \"de...  \n",
              "4791  [{\"credit_id\": \"54c7851b925141679100372a\", \"de...  \n",
              "\n",
              "[109 rows x 23 columns]"
            ],
            "text/html": [
              "\n",
              "  <div id=\"df-56ec69b4-daac-470f-9c50-ac1f5a6f5cef\">\n",
              "    <div class=\"colab-df-container\">\n",
              "      <div>\n",
              "<style scoped>\n",
              "    .dataframe tbody tr th:only-of-type {\n",
              "        vertical-align: middle;\n",
              "    }\n",
              "\n",
              "    .dataframe tbody tr th {\n",
              "        vertical-align: top;\n",
              "    }\n",
              "\n",
              "    .dataframe thead th {\n",
              "        text-align: right;\n",
              "    }\n",
              "</style>\n",
              "<table border=\"1\" class=\"dataframe\">\n",
              "  <thead>\n",
              "    <tr style=\"text-align: right;\">\n",
              "      <th></th>\n",
              "      <th>budget</th>\n",
              "      <th>genres</th>\n",
              "      <th>homepage</th>\n",
              "      <th>id</th>\n",
              "      <th>keywords</th>\n",
              "      <th>original_language</th>\n",
              "      <th>original_title</th>\n",
              "      <th>overview</th>\n",
              "      <th>popularity</th>\n",
              "      <th>production_companies</th>\n",
              "      <th>...</th>\n",
              "      <th>runtime</th>\n",
              "      <th>spoken_languages</th>\n",
              "      <th>status</th>\n",
              "      <th>tagline</th>\n",
              "      <th>title</th>\n",
              "      <th>vote_average</th>\n",
              "      <th>vote_count</th>\n",
              "      <th>tittle</th>\n",
              "      <th>cast</th>\n",
              "      <th>crew</th>\n",
              "    </tr>\n",
              "  </thead>\n",
              "  <tbody>\n",
              "    <tr>\n",
              "      <th>272</th>\n",
              "      <td>90000000</td>\n",
              "      <td>[{\"id\": 35, \"name\": \"Comedy\"}, {\"id\": 10749, \"...</td>\n",
              "      <td>NaN</td>\n",
              "      <td>24113</td>\n",
              "      <td>[{\"id\": 2301, \"name\": \"architect\"}, {\"id\": 345...</td>\n",
              "      <td>en</td>\n",
              "      <td>Town &amp; Country</td>\n",
              "      <td>Porter Stoddard is a well-known New York archi...</td>\n",
              "      <td>1.004579</td>\n",
              "      <td>[{\"name\": \"New Line Cinema\", \"id\": 12}]</td>\n",
              "      <td>...</td>\n",
              "      <td>104.0</td>\n",
              "      <td>[{\"iso_639_1\": \"en\", \"name\": \"English\"}]</td>\n",
              "      <td>Released</td>\n",
              "      <td>There's no such thing as a small affair.</td>\n",
              "      <td>Town &amp; Country</td>\n",
              "      <td>3.7</td>\n",
              "      <td>16</td>\n",
              "      <td>Town &amp; Country</td>\n",
              "      <td>[{\"cast_id\": 3, \"character\": \"Porter Stoddard\"...</td>\n",
              "      <td>[{\"credit_id\": \"52fe4483c3a368484e02742d\", \"de...</td>\n",
              "    </tr>\n",
              "    <tr>\n",
              "      <th>309</th>\n",
              "      <td>84000000</td>\n",
              "      <td>[{\"id\": 14, \"name\": \"Fantasy\"}, {\"id\": 35, \"na...</td>\n",
              "      <td>NaN</td>\n",
              "      <td>10214</td>\n",
              "      <td>[{\"id\": 1009, \"name\": \"baby\"}, {\"id\": 2546, \"n...</td>\n",
              "      <td>en</td>\n",
              "      <td>Son of the Mask</td>\n",
              "      <td>Tim Avery, an aspiring cartoonist, finds himse...</td>\n",
              "      <td>17.815595</td>\n",
              "      <td>[{\"name\": \"New Line Cinema\", \"id\": 12}, {\"name...</td>\n",
              "      <td>...</td>\n",
              "      <td>94.0</td>\n",
              "      <td>[{\"iso_639_1\": \"en\", \"name\": \"English\"}]</td>\n",
              "      <td>Released</td>\n",
              "      <td>Who's next?</td>\n",
              "      <td>Son of the Mask</td>\n",
              "      <td>3.6</td>\n",
              "      <td>338</td>\n",
              "      <td>Son of the Mask</td>\n",
              "      <td>[{\"cast_id\": 1, \"character\": \"Tim Avery\", \"cre...</td>\n",
              "      <td>[{\"credit_id\": \"52fe43439251416c75009b91\", \"de...</td>\n",
              "    </tr>\n",
              "    <tr>\n",
              "      <th>480</th>\n",
              "      <td>44000000</td>\n",
              "      <td>[{\"id\": 28, \"name\": \"Action\"}, {\"id\": 878, \"na...</td>\n",
              "      <td>NaN</td>\n",
              "      <td>5491</td>\n",
              "      <td>[{\"id\": 818, \"name\": \"based on novel\"}, {\"id\":...</td>\n",
              "      <td>en</td>\n",
              "      <td>Battlefield Earth</td>\n",
              "      <td>In the year 3000, man is no match for the Psyc...</td>\n",
              "      <td>7.891470</td>\n",
              "      <td>[{\"name\": \"Franchise Pictures\", \"id\": 1403}, {...</td>\n",
              "      <td>...</td>\n",
              "      <td>118.0</td>\n",
              "      <td>[{\"iso_639_1\": \"en\", \"name\": \"English\"}, {\"iso...</td>\n",
              "      <td>Released</td>\n",
              "      <td>Take Back The Planet</td>\n",
              "      <td>Battlefield Earth</td>\n",
              "      <td>3.0</td>\n",
              "      <td>255</td>\n",
              "      <td>Battlefield Earth</td>\n",
              "      <td>[{\"cast_id\": 11, \"character\": \"Terl\", \"credit_...</td>\n",
              "      <td>[{\"credit_id\": \"52fe4409c3a36847f807e759\", \"de...</td>\n",
              "    </tr>\n",
              "    <tr>\n",
              "      <th>503</th>\n",
              "      <td>76000000</td>\n",
              "      <td>[{\"id\": 28, \"name\": \"Action\"}, {\"id\": 12, \"nam...</td>\n",
              "      <td>NaN</td>\n",
              "      <td>17711</td>\n",
              "      <td>[{\"id\": 4414, \"name\": \"adventure\"}, {\"id\": 651...</td>\n",
              "      <td>en</td>\n",
              "      <td>The Adventures of Rocky &amp; Bullwinkle</td>\n",
              "      <td>Rocky and Bullwinkle have been living off the ...</td>\n",
              "      <td>8.981427</td>\n",
              "      <td>[{\"name\": \"Universal Pictures\", \"id\": 33}, {\"n...</td>\n",
              "      <td>...</td>\n",
              "      <td>88.0</td>\n",
              "      <td>[{\"iso_639_1\": \"ru\", \"name\": \"P\\u0443\\u0441\\u0...</td>\n",
              "      <td>Released</td>\n",
              "      <td>This summer it's not the same old bull.</td>\n",
              "      <td>The Adventures of Rocky &amp; Bullwinkle</td>\n",
              "      <td>3.9</td>\n",
              "      <td>87</td>\n",
              "      <td>The Adventures of Rocky &amp; Bullwinkle</td>\n",
              "      <td>[{\"cast_id\": 1, \"character\": \"Natasha\", \"credi...</td>\n",
              "      <td>[{\"credit_id\": \"593c9f81c3a3680f4201597d\", \"de...</td>\n",
              "    </tr>\n",
              "    <tr>\n",
              "      <th>601</th>\n",
              "      <td>0</td>\n",
              "      <td>[{\"id\": 28, \"name\": \"Action\"}, {\"id\": 878, \"na...</td>\n",
              "      <td>NaN</td>\n",
              "      <td>11535</td>\n",
              "      <td>[{\"id\": 554, \"name\": \"manager\"}, {\"id\": 1395, ...</td>\n",
              "      <td>en</td>\n",
              "      <td>Rollerball</td>\n",
              "      <td>From the director of Die Hard comes this high-...</td>\n",
              "      <td>9.306253</td>\n",
              "      <td>[{\"name\": \"Atlas Entertainment\", \"id\": 507}, {...</td>\n",
              "      <td>...</td>\n",
              "      <td>98.0</td>\n",
              "      <td>[{\"iso_639_1\": \"de\", \"name\": \"Deutsch\"}, {\"iso...</td>\n",
              "      <td>Released</td>\n",
              "      <td>Go Ballistic</td>\n",
              "      <td>Rollerball</td>\n",
              "      <td>3.4</td>\n",
              "      <td>106</td>\n",
              "      <td>Rollerball</td>\n",
              "      <td>[{\"cast_id\": 1, \"character\": \"Jonathan Cross\",...</td>\n",
              "      <td>[{\"credit_id\": \"54b88dfc92514148b00007aa\", \"de...</td>\n",
              "    </tr>\n",
              "    <tr>\n",
              "      <th>...</th>\n",
              "      <td>...</td>\n",
              "      <td>...</td>\n",
              "      <td>...</td>\n",
              "      <td>...</td>\n",
              "      <td>...</td>\n",
              "      <td>...</td>\n",
              "      <td>...</td>\n",
              "      <td>...</td>\n",
              "      <td>...</td>\n",
              "      <td>...</td>\n",
              "      <td>...</td>\n",
              "      <td>...</td>\n",
              "      <td>...</td>\n",
              "      <td>...</td>\n",
              "      <td>...</td>\n",
              "      <td>...</td>\n",
              "      <td>...</td>\n",
              "      <td>...</td>\n",
              "      <td>...</td>\n",
              "      <td>...</td>\n",
              "      <td>...</td>\n",
              "    </tr>\n",
              "    <tr>\n",
              "      <th>4741</th>\n",
              "      <td>75000</td>\n",
              "      <td>[{\"id\": 878, \"name\": \"Science Fiction\"}]</td>\n",
              "      <td>NaN</td>\n",
              "      <td>360188</td>\n",
              "      <td>[{\"id\": 1299, \"name\": \"monster\"}, {\"id\": 9970,...</td>\n",
              "      <td>en</td>\n",
              "      <td>Queen Crab</td>\n",
              "      <td>A meteor crashes into a quiet lake in the remo...</td>\n",
              "      <td>0.140989</td>\n",
              "      <td>[{\"name\": \"Polonia Brothers Entertainment\", \"i...</td>\n",
              "      <td>...</td>\n",
              "      <td>90.0</td>\n",
              "      <td>[{\"iso_639_1\": \"en\", \"name\": \"English\"}]</td>\n",
              "      <td>Released</td>\n",
              "      <td>NaN</td>\n",
              "      <td>Queen Crab</td>\n",
              "      <td>3.3</td>\n",
              "      <td>3</td>\n",
              "      <td>Queen Crab</td>\n",
              "      <td>[{\"cast_id\": 2, \"character\": \"Melissa Webber\",...</td>\n",
              "      <td>[{\"credit_id\": \"562f43829251410a22008ae9\", \"de...</td>\n",
              "    </tr>\n",
              "    <tr>\n",
              "      <th>4764</th>\n",
              "      <td>0</td>\n",
              "      <td>[{\"id\": 53, \"name\": \"Thriller\"}, {\"id\": 18, \"n...</td>\n",
              "      <td>NaN</td>\n",
              "      <td>326576</td>\n",
              "      <td>[]</td>\n",
              "      <td>en</td>\n",
              "      <td>Dawn of the Crescent Moon</td>\n",
              "      <td>A group of college students travel to a small ...</td>\n",
              "      <td>0.049469</td>\n",
              "      <td>[]</td>\n",
              "      <td>...</td>\n",
              "      <td>95.0</td>\n",
              "      <td>[{\"iso_639_1\": \"en\", \"name\": \"English\"}]</td>\n",
              "      <td>Released</td>\n",
              "      <td>The past is present.</td>\n",
              "      <td>Dawn of the Crescent Moon</td>\n",
              "      <td>2.0</td>\n",
              "      <td>1</td>\n",
              "      <td>Dawn of the Crescent Moon</td>\n",
              "      <td>[{\"cast_id\": 8, \"character\": \"Cyrus\", \"credit_...</td>\n",
              "      <td>[{\"credit_id\": \"54e889e7925141117c0014b7\", \"de...</td>\n",
              "    </tr>\n",
              "    <tr>\n",
              "      <th>4765</th>\n",
              "      <td>0</td>\n",
              "      <td>[{\"id\": 27, \"name\": \"Horror\"}]</td>\n",
              "      <td>https://www.facebook.com/pages/Raymond-Did-It/...</td>\n",
              "      <td>228550</td>\n",
              "      <td>[{\"id\": 6270, \"name\": \"high school\"}, {\"id\": 9...</td>\n",
              "      <td>en</td>\n",
              "      <td>Raymond Did It</td>\n",
              "      <td>Mentally challenged Raymond Rourke gets blamed...</td>\n",
              "      <td>0.160779</td>\n",
              "      <td>[]</td>\n",
              "      <td>...</td>\n",
              "      <td>83.0</td>\n",
              "      <td>[{\"iso_639_1\": \"en\", \"name\": \"English\"}]</td>\n",
              "      <td>Released</td>\n",
              "      <td>Mom's Pretty Mad At Me</td>\n",
              "      <td>Raymond Did It</td>\n",
              "      <td>3.2</td>\n",
              "      <td>8</td>\n",
              "      <td>Raymond Did It</td>\n",
              "      <td>[{\"cast_id\": 2, \"character\": \"Raymond\", \"credi...</td>\n",
              "      <td>[{\"credit_id\": \"52fe4ecf9251416c75163381\", \"de...</td>\n",
              "    </tr>\n",
              "    <tr>\n",
              "      <th>4767</th>\n",
              "      <td>50000</td>\n",
              "      <td>[{\"id\": 53, \"name\": \"Thriller\"}, {\"id\": 27, \"n...</td>\n",
              "      <td>NaN</td>\n",
              "      <td>290391</td>\n",
              "      <td>[{\"id\": 9748, \"name\": \"revenge\"}, {\"id\": 9826,...</td>\n",
              "      <td>en</td>\n",
              "      <td>Run, Hide, Die</td>\n",
              "      <td>On the anniversary weekend of the death of a y...</td>\n",
              "      <td>0.595809</td>\n",
              "      <td>[{\"name\": \"Little Big Film Company\", \"id\": 260...</td>\n",
              "      <td>...</td>\n",
              "      <td>75.0</td>\n",
              "      <td>[{\"iso_639_1\": \"en\", \"name\": \"English\"}]</td>\n",
              "      <td>Released</td>\n",
              "      <td>Five girls, one secret. Revenge stalks them in...</td>\n",
              "      <td>Run, Hide, Die</td>\n",
              "      <td>3.5</td>\n",
              "      <td>2</td>\n",
              "      <td>Run, Hide, Die</td>\n",
              "      <td>[{\"cast_id\": 0, \"character\": \"Addison Davenpor...</td>\n",
              "      <td>[{\"credit_id\": \"5407ef980e0a26267c000b1b\", \"de...</td>\n",
              "    </tr>\n",
              "    <tr>\n",
              "      <th>4791</th>\n",
              "      <td>13</td>\n",
              "      <td>[{\"id\": 27, \"name\": \"Horror\"}]</td>\n",
              "      <td>http://tincanmanthemovie.com/</td>\n",
              "      <td>157185</td>\n",
              "      <td>[{\"id\": 14903, \"name\": \"home invasion\"}]</td>\n",
              "      <td>en</td>\n",
              "      <td>Tin Can Man</td>\n",
              "      <td>Recently dumped by his girlfirend for another ...</td>\n",
              "      <td>0.332679</td>\n",
              "      <td>[{\"name\": \"Park Films\", \"id\": 21871}, {\"name\":...</td>\n",
              "      <td>...</td>\n",
              "      <td>84.0</td>\n",
              "      <td>[{\"iso_639_1\": \"en\", \"name\": \"English\"}]</td>\n",
              "      <td>Released</td>\n",
              "      <td>Everything You've Heard is True</td>\n",
              "      <td>Tin Can Man</td>\n",
              "      <td>2.0</td>\n",
              "      <td>1</td>\n",
              "      <td>Tin Can Man</td>\n",
              "      <td>[{\"cast_id\": 1, \"character\": \"Dave\", \"credit_i...</td>\n",
              "      <td>[{\"credit_id\": \"54c7851b925141679100372a\", \"de...</td>\n",
              "    </tr>\n",
              "  </tbody>\n",
              "</table>\n",
              "<p>109 rows × 23 columns</p>\n",
              "</div>\n",
              "      <button class=\"colab-df-convert\" onclick=\"convertToInteractive('df-56ec69b4-daac-470f-9c50-ac1f5a6f5cef')\"\n",
              "              title=\"Convert this dataframe to an interactive table.\"\n",
              "              style=\"display:none;\">\n",
              "        \n",
              "  <svg xmlns=\"http://www.w3.org/2000/svg\" height=\"24px\"viewBox=\"0 0 24 24\"\n",
              "       width=\"24px\">\n",
              "    <path d=\"M0 0h24v24H0V0z\" fill=\"none\"/>\n",
              "    <path d=\"M18.56 5.44l.94 2.06.94-2.06 2.06-.94-2.06-.94-.94-2.06-.94 2.06-2.06.94zm-11 1L8.5 8.5l.94-2.06 2.06-.94-2.06-.94L8.5 2.5l-.94 2.06-2.06.94zm10 10l.94 2.06.94-2.06 2.06-.94-2.06-.94-.94-2.06-.94 2.06-2.06.94z\"/><path d=\"M17.41 7.96l-1.37-1.37c-.4-.4-.92-.59-1.43-.59-.52 0-1.04.2-1.43.59L10.3 9.45l-7.72 7.72c-.78.78-.78 2.05 0 2.83L4 21.41c.39.39.9.59 1.41.59.51 0 1.02-.2 1.41-.59l7.78-7.78 2.81-2.81c.8-.78.8-2.07 0-2.86zM5.41 20L4 18.59l7.72-7.72 1.47 1.35L5.41 20z\"/>\n",
              "  </svg>\n",
              "      </button>\n",
              "      \n",
              "  <style>\n",
              "    .colab-df-container {\n",
              "      display:flex;\n",
              "      flex-wrap:wrap;\n",
              "      gap: 12px;\n",
              "    }\n",
              "\n",
              "    .colab-df-convert {\n",
              "      background-color: #E8F0FE;\n",
              "      border: none;\n",
              "      border-radius: 50%;\n",
              "      cursor: pointer;\n",
              "      display: none;\n",
              "      fill: #1967D2;\n",
              "      height: 32px;\n",
              "      padding: 0 0 0 0;\n",
              "      width: 32px;\n",
              "    }\n",
              "\n",
              "    .colab-df-convert:hover {\n",
              "      background-color: #E2EBFA;\n",
              "      box-shadow: 0px 1px 2px rgba(60, 64, 67, 0.3), 0px 1px 3px 1px rgba(60, 64, 67, 0.15);\n",
              "      fill: #174EA6;\n",
              "    }\n",
              "\n",
              "    [theme=dark] .colab-df-convert {\n",
              "      background-color: #3B4455;\n",
              "      fill: #D2E3FC;\n",
              "    }\n",
              "\n",
              "    [theme=dark] .colab-df-convert:hover {\n",
              "      background-color: #434B5C;\n",
              "      box-shadow: 0px 1px 3px 1px rgba(0, 0, 0, 0.15);\n",
              "      filter: drop-shadow(0px 1px 2px rgba(0, 0, 0, 0.3));\n",
              "      fill: #FFFFFF;\n",
              "    }\n",
              "  </style>\n",
              "\n",
              "      <script>\n",
              "        const buttonEl =\n",
              "          document.querySelector('#df-56ec69b4-daac-470f-9c50-ac1f5a6f5cef button.colab-df-convert');\n",
              "        buttonEl.style.display =\n",
              "          google.colab.kernel.accessAllowed ? 'block' : 'none';\n",
              "\n",
              "        async function convertToInteractive(key) {\n",
              "          const element = document.querySelector('#df-56ec69b4-daac-470f-9c50-ac1f5a6f5cef');\n",
              "          const dataTable =\n",
              "            await google.colab.kernel.invokeFunction('convertToInteractive',\n",
              "                                                     [key], {});\n",
              "          if (!dataTable) return;\n",
              "\n",
              "          const docLinkHtml = 'Like what you see? Visit the ' +\n",
              "            '<a target=\"_blank\" href=https://colab.research.google.com/notebooks/data_table.ipynb>data table notebook</a>'\n",
              "            + ' to learn more about interactive tables.';\n",
              "          element.innerHTML = '';\n",
              "          dataTable['output_type'] = 'display_data';\n",
              "          await google.colab.output.renderOutput(dataTable, element);\n",
              "          const docLink = document.createElement('div');\n",
              "          docLink.innerHTML = docLinkHtml;\n",
              "          element.appendChild(docLink);\n",
              "        }\n",
              "      </script>\n",
              "    </div>\n",
              "  </div>\n",
              "  "
            ]
          },
          "metadata": {},
          "execution_count": 95
        },
        {
          "output_type": "stream",
          "name": "stdout",
          "text": [
            "Warning: Total number of columns (23) exceeds max_columns (20) limiting to first (20) columns.\n"
          ]
        }
      ]
    },
    {
      "cell_type": "code",
      "source": [
        "for item in temp:\n",
        "    print(item)"
      ],
      "metadata": {
        "colab": {
          "base_uri": "https://localhost:8080/"
        },
        "id": "bYFbZQSMZzpp",
        "outputId": "6767550f-83bd-4e3c-d5fe-c6009b383528"
      },
      "execution_count": null,
      "outputs": [
        {
          "output_type": "stream",
          "name": "stdout",
          "text": [
            "Dex, a superdog sleuth, is the law of the land when the world's most recognized brands take on the forces of evil and the devilish Brand X.\n",
            "In this action thriller set in post-Katrina New Orleans, business owner Jack Vermillion (Laurence Fishburne) is struggling to run a legitimate shipping company while bad guy Ernest Pike (Karl Urban) is struggling to get his family's illegal gun collection out of the country. When their paths collide, Jack realizes that exposing Pike might get him just the sway he needs to persuade law enforcement officials to treat his imprisoned son kindly.\n",
            "The young warrior Son Goku sets out on a quest, racing against time and the vengeful King Piccolo, to collect a set of seven magical orbs that will grant their wielder unlimited power.\n",
            "Following on from the plot of the last movie, babies can communicate with each other using 'baby talk', and have an innate knowledge of the secrets of the universe. The baby geniuses become involved in a scheme by media mogul Bill Biscane (Jon Voight). Helping the geniuses is a legendary superbaby named Kahuna. He joins up with several other babies in an attempt to stop Biscane, who intends to use a state-of-the-art satellite system to control the world's population.\n",
            "It's Schluufy's birthday, and the Oogieloves (Goobie, Zoozie and Toofie), along with their friends J. Edgar, Windy Window and Ruffy, are organizing a party. (Shh! It's a secret.) Everything is going along just perfectly until J. Edgar trips and loses the last five magical balloons in all of Lovelyloveville--OH NO! The Oogiloves set out to find the magical balloons in time to save their friend's party. Along the way, they meet some very interesting characters indeed, including Dotty Rounder (Cloris Leachman), Bobby Wobbly (Carey Elwes), Milky Marvin (Chazz Palminteri), Rosalie Rosebud (Toni Braxton) and Lola and Lero Sombero (Christopher Lloyd and Jaime Pressly). Can these new friends help them recover the magical balloons and get back to the cottage in time to celebrate Schluufy's surprise birthday?\n",
            "Family inherits an old house and to their surprise, finds the home filled with wonderful colorful creatures that brings the family together.\n",
            "Glendon Wasey is a fortune hunter looking for a fast track out of China. Gloria Tatlock is a missionary nurse seeking the curing powers of opium for her patients. Fate sets them on a hectic, exotic, and even romantic quest for stolen drugs. But they are up against every thug and smuggler in Shangai.\n",
            "Mom and dad dump son Cody, daughter Abby, her best friend Marcella and a baby on the farm with Grandpa and Grandma. Purple dinosaur Barney soon appears to entertain kids, and when a large colorful egg deposited on a farm by a shooting star is accidentally carted off, Barney and kids start their chase for it\n",
            "A surfer becomes the head of a major company.\n",
            "A self-centered, middle-aged pitchman for a potato chip company loses his job and his livelihood just as his octogenarian grandfather is dropped on his doorstep unexpectedly by his mother on her way to a singles cruise.\n",
            "After being estranged since her mother's death in the 9/11 attacks, both daughter and father must work together to re-establish their relationship. When the difficulty nearly consumes them both, a bond with a beautiful horse that has also gone through its own tragic loss brings Taylor Sims, back to what is important - family, friendship and faith. With help from the community and from above, they repair the pieces of their lives and learn to stop running, forever.\n",
            "An ex-con returns to his rural Ontario roots and outwits a corrupt and wealthy thoroughbred owner trying to take over a slew of local farms. Ray Dokes, a charming ex-ballplayer, returns from jail to discover the rural landscape of his childhood transformed by urban development. Determined to stay out of trouble, Ray heads to the farm of his old friend Pete Culpepper, a crusty Texas cowboy who trains losing racehorses and whose debts are growing faster than his corn.\n",
            "The journey of a professional wrestler who becomes a small town pastor and moonlights as a masked vigilante fighting injustice. While facing crises at home and at the church, the Pastor must evade the police and somehow reconcile his violent secret identity with his calling as a pastor.\n",
            "After a homocide that the police believe is over gasoline theft, a tax investigator discovers the Russian mafia is involved and that they are stealing millions in gasoline tax money. Only one rookie cop is willing to believe him and together they must get the evidence they need or die trying.\n",
            "The Secret is the story of a real-life double murder. James Nesbitt plays Colin Howell, a respectable dentist and pillar of the community, who became a killer in partnership with a Sunday school teacher, Hazel Buchanan, played by Genevieve O'Reilly.\n",
            "Academy Award® winning director Charles Ferguson's new film investigates global climate change villains and heroes, and reveals practical solutions to act on.\n",
            "An Italian-American actor is deported to Mexico by some crooked INS Agents, and a pack of orphans helps him find his way back to America\n",
            "After a stint in a psychiatric hospital, a young woman returns to the house where her father killed the entire cast of The Artist during his exorcism.\n",
            "A comedy/drama about four Italian single fathers trying to cope with American ex-wives, children, family, and new relationships, set in New York and Rome.\n",
            "An AWOL marine in possession of secret government information, is a wanted man, pursued by Russian special ops, the LAPD, and a dangerous assassin.\n",
            "After sneaking to a party with her friends, 16-year-old Amber Stevens goes missing. Forced into the world of sex trafficking, her family and community fight to get her back. Inspired by actual events.\n",
            "A hate-crime has been committed in a the small city of Braxton, N.Y. Five migrant laborers have been beaten, shot, then ditched. This will upset the delicate balance of an ethnically diverse populace.\n",
            "The Post War II story of Manhattan born Mike Esposito, a practiced tailor of custom mens clothing; a man of dignity and honor, whose developing involvements with the Italian mob wraps him up in a world of moral dilemma and clashing values.\n",
            "Raju, a waiter, is in love with the famous TV reporter Greeta Kapoor. After a man is murdered, Kapoor shows up at Raju's door to ask him some questions - it turns out that Raju served the dead man his last supper, and the authorities hope that he might be able to help them. Raju lies and says that he was an eye witness, in order to spend more time with Kapoor. He gives the police a false description of the killer, but it matches his best friend Kutti, so soon Kutti is wanted by the police, and the Mafia, who is responsible for the killing, is after Raju.\n",
            "\n",
            "Two brothers, desperate to break into the world of television and film, decide to enter a horror movie contest. And what could be more horrifying than the elusive snuff film?\n",
            "During the British rule in India, several Indians were lured by the British to travel to distant Mauritius where they would have a better life. Upon reaching this island, the Indians were enslaved, tortured and made to labor in what is now known as the \"Coolie Ghat\". After the British left India, the Indians in Mauritius decided to continue to live there along with other nationals from different countries.\n",
            "A decade after a disastrous meteor impact wipes out most of society, a group of survivalists emerge to find themselves on a twisted version of the old Earth, with a nascent society besieged by vicious marauders, ferocious mutants, and the dreadful symptoms of a post-apocalyptic environment.\n",
            "When David King purchases a house in the hills far above the angst of Los Angeles, he gets much more than he bargained for when strange and unexplainable occurrences in and around the house begin to take control of his daily life\n",
            "The entire cause of the problem evolves from the use of a deputy to translate. His command of Spanish is inadequate and he mistranslates what a witness tells the sheriff as to whether the real perpetrator of the crime is riding a mare (yegua) or a male horse (caballo). This error results in destroying a family and the death of an innocent man.\n",
            "At a time when most females in Asia possess little or no power over their lives, headstrong Kurmanjan Datka defies her family's authority -- and ultimately becomes the ruler of her native Kyrgyzstan region.\n",
            "Two men and a woman circle the globe in a satellite armed with a nuclear device. The third world war breaks out, and a few months later the satellite crashes. They survive the crash but one man gets killed by survivors and the other man gets caught. The woman stays by the remains of the the satellite but is soon caught by evil punks who have taken power.\n",
            "The film, as its name implies, centres on Gurneal \"Neal\" Ahluwalia and Nikkita \"Nikki\" Bakshi (Uday Chopra and Tanisha), two Canadians of Indian descent, born and raised in British Columbia. Before getting married Neal wants to spend one month on vacation in total freedom by meeting women, going to clubs...\n",
            "The Algerian is an international political thriller about the colliding worlds of the Middle East and America. It follows Ali (Ben Youcef) across the world from Algeria to New York, Las Vegas and Los Angeles as it reveals he is a sleeper cell part of an international plot.\n",
            "The raunchy, spunky tale of the rise and fall of an all-girl rock band from Portland, Oregon.\n",
            "A famous comedian and artist wants to display his work at an art museum. Just when he thinks he's lost his touch, a series of famous comedians drop by to help him rekindle his artistic and comedic spark.\n",
            "The fate of an arm-wrestling match leads two rival brothers on an adventure through the streets of Lima, Peru. Armed with the spoils of victory, the boys must navigate many obstacles that stand in the way of their goal: a house party on the other side of the tracks and the hope of lost virginity.\n",
            "Captured Hearts, an insane serial killer/horror film, is a heart-jumping, heart-crushing - truly demented - roller coaster ride of mystery, violence, sex and gore. With a raging, climatic twist, all hearts end up in one place. And it's not where they're supposed to be.\n",
            "The abolition of slavery in the British Caribbean in 1834 prompts Gillanders, Arbuthnot &amp; Company in Calcutta, a part of the East India Company, to recruit Coolies from India to fill the resulting labor void. The company hires Sinha, a fierce small-timer to sell dreams of El Dorado to the unsuspecting, impoverished Coolies who are signed to five-year contracts as indentured servants. Upon the Coolies' arrival in British Guiana in 1838, the British planters promptly enslave them to ensure that the growth of sugar in the British West Indies will continue uninterrupted. John Scoble of the British and Foreign Anti Slavery Society arrives on the colony a year later to discover a new form of slavery; this time on the backs of Indians.\n",
            "Melba is a Californian trailer-park girl who is told to look for three kings by a phone psychic, and when she meets three guys - Trent, Brad and Joel traveling to Las Vegas, she decides they are those kings and joins them on a trip. In Vegas she meets her old high school pal Dottie.\n",
            "A young Parisian woman of Caribbean descent returns to her native island of Guadeloupe looking for the father she has never known.\n",
            "River Miller, a mentally unstable actor haunted by the past, moves to Hollywood to start his life over, only to find his inner demons are inescapable.\n",
            "Film from Daniel Davila\n",
            "Charlie, his sexy girlfriend, and his moronic best friend drink, drug, and self-destruct over the course of one day at Charlie's father home in Los Angeles.\n",
            "Naturally Native follows the lives, loves, pain, joy and relationships of three sisters as they attempt to start their own business. Of American Indian ancestry, but adopted by white foster parents as young children, each sister has her own identity issues and each has chosen a very different career path. Now dedicated to starting a Native cosmetic business, they attempt to overcome obstacles both in the business world and in the home. A touching love story of family and culture, Naturally Native also interweaves a subtle, but strong wake-up call regarding the treatment of Native people in corporate America. Naturally Native also provides some insight into tribal infrastructure and gaming issues.\n",
            "Lee Plenty is an almost broke would-be novelist and Havilland Savage is rich and very beautiful woman and his friend. When she invites him to her home for New Year's Eve, they start to build up a romance.\n",
            "A look at human origins in the very place of our origins, Africa's Rift Valley\n",
            "When strangers Frank Delano and his Uncle Bobby purchase the local amusement park of a \"peaceful\" resort town they stir up guilt and suspicion among the locals over a murder and suicide the town would rather forget.\n",
            "Light in the Darkroom is the story of two best friends whose faith is tested when their friends disappear during a religious pilgrimage.\n",
            "The story of the children who work 12-14 hour days in the fields without the protection of child labor laws. These children are not toiling in the fields in some far away land. They are working in America.\n",
            "The rags to riches story of Sophie Tucker, an iconic superstar who ruled the worlds of vaudeville, Broadway, radio, television, and Hollywood throughout the 20th century. Before Beyoncé, Lady Gaga, Madonna, Bette Midler, Marilyn Monroe, and Mae West, Sophie Tucker was the first woman to infatuate her audiences with a bold, bawdy and brassy style unlike any other. Using all of \"The Last of the Red Hot Mamas\" 400-plus recently rediscovered personal scrapbooks, authors Susan and Lloyd Ecker take you on their seven-year journey retracing Tucker's sixty-year career in show business.`\n",
            "1971 post civil rights San Francisco seemed like the perfect place for a black Korean War veteran and his family to realize their dream of economic independence and his own chance to be his a \"boss\". Charlie Walker would soon find out how naive he was. In a city full of impostors and naysayers, he refused to take \"No\" for an answer. Until a catastrophic disaster opened a door that had never been open to a black man before. This is a story about what happened when he stepped through that door, with both feet!.\n",
            "The dramatic story of Julian, a Dominican drug lord who despite his confinement in prison, was still able to maintain Dominican society in a state of suspense, for over 13 years. At the early age of 12, he witnessed the death of his father at the hands of local military authorities, during a well-meant attempt to hand-over a package of drugs he had incidentally found at sea while fishing. As a result of this experience, Julian develops a thirst for revenge that leads him to kill all those involved in his father's death. In the process he becomes a major drug lord and a very powerful headman within Dominican society.\n",
            "An allergy-ridden, eavesdropping sound engineer and his boisterous new roommate are thrust into a missing girl case when he discovers clues to her disappearance in his neighborhood recordings.\n",
            "The Little Ponderosa Zoo is preparing for their annual fundraiser festival that keeps the zoo afloat. The Freeman family, Jack, Judy, and their young daughter, Charlie opened the zoo years earlier after sharing their own home with the many animals they had rescued through the years With the help of Mr. Baker, their dependable zookeeper, the zoo has always been a huge hit with the small town. But, one day, the local bank owner discovers some dusty old documents in the basement of his bank that show that the zoo is sitting on a gold mine and, with the help of the town Mayor, and the Mayor s bumbling nephew, they immediately devise a devious plan to get the gold for themselves. The greedy trio see the annual festival as the perfect opportunity to put their dangerous plan into action and close the zoo forever and get their hands on the gold!\n",
            "Action - Orphan, con artist, crime boss and millionaire, Diamond Ruff has seen it all. In prison for a murder he did not commit, he meets the Reverend Trek Woods, who overwhelms him with kindness, character and faith in god. Falling in love with April, a young woman with terminal illness, Ruff is again challenged to grow and change. Will he be redeemed? There are no easy answers. -  Felicia Pearson, Fredro Starr, Michael Barra\n",
            "Surprise parties rarely go well. This one is no different, as a group of 30-somethings head through life, love and a day in New York City.\n",
            "Four actors compete for the role of Jesus - a black revolutionary, a bisexual hippie, a Jew, and a feminist. When all four are rejected, they hit the road on bad-ass motorcycles, bound for glory in New York City. But when a run-in with a gang of Elvises ends in murder, they find themselves taken prisoner in a little town called Jackville - where folk don't take kindly to blasphemers. The Jesuses fall prey to an evil conspiracy that can only lead to the Apocalypse.\n",
            "Joseph just broke up with his girlfriend and is not taking it very well. He thinks she is plotting against him with their mutual psychiatrist. His dog is missing and he suspects the people at work might be behind it. Then there is the unshakable guilt over his past. It just might all be bearable, somehow possible to live through, if it weren't for those damned 'monsters' that keep trying to kill him. Through an allegorical 'fable' that is told in parallel with Joseph's struggle, we are left to decide for ourselves in the end, who is the crow and who is the wolf., was someone out to get Joseph, was it a stroke of bad luck, or was it all in his head?\n",
            "In this British drama, Ellen (Sorcha Brooks) and Jack (Antony Edridge) recall a time when they traded partners, and their remarks set a partner-swapping party in motion among four other couples. As the long night's journey into sex progresses, various fears and anxieties surface. Shown at Montreal's 1997 World Film Festival and the 1997 San Sebastian Film Festival.\n",
            "A fearsome warrior from the Kingdom of Samarza arrives in America to assassinate a high school girl. The girl does not know it, but she is the last living heir to the Kingdom. A noble guard arrives in America to protect the young princess.\n",
            "A Broadway producer puts on a play with a Devil character in it. Soon the actors begin having nightmares, and events that are mentioned in the play really start happening.\n",
            "Nick Anderson, Kevin Daniels, and Tracey Green do everything together. They are the best of friends, and yet they couldn't be more different. Neighbors from adolescence, they finish each other's thoughts and sentences, joys and pains, happiness and tears. Using Nick's house as their own members only clubhouse, they escape into their own world of contentment. Yet the inevitable intrusion of others tests their stability in ways never imagined.\n",
            "An action-packed love story on the Mexican border featuring oppression, revenge, reincarnation and rebirth.\n",
            "Prequel to \"5th of a Degree.\"\n",
            "In the midst of a midlife crisis of faith, a man finds hope where he least expects it – his hometown. James Moore (Golden Globe nominee Corbin Bernsen) is a former pastor who returns home to discover a family new to the area has been killed in a mysterious fire, and his childhood friend is implicated in the murder. Convinced of his friend’s innocence, James sets out on a mission to find the truth… and in the process, rediscovers his own lost faith. An uplifting drama about faith, family, and the powerful ties that bind a community together.\n",
            "UnDivided documents the true story of how a suburban church unites with at-risk Roosevelt High School to create a beautiful transformation for students, the school and the volunteers serving it.\n",
            "Give Me Shelter is a documentary to raise awareness for important animal issues around the world. This film uncovers the most prevalent issues in the animal world through the eyes of individuals dedicating their lives to them daily.\n",
            "The year is 1879. Gunfighters from the far reaches of the globe descend on Religion, AZ to compete in a legendary poker tournament. Drawn by the gold prize, the players come to realize that in this game, their very souls are at stake.\n",
            "Every 12 years over 70 million pilgrims gather at the meeting of India's holiest rivers, the Ganges and the Yamuna, for a spectacular spiritual festival: the Kumbh Mela. This documentary takes a voyage of discovery through this colorful event through the eyes of several Westerners and an ebullient young Hindu monk, Swami Krishnanand. Featuring encounters with some of India's most respected holy men and exclusive footage of His Holiness the Dalai Lama.\n",
            "After finding an old storage locker filled with his family's history, James Erikson begins a journey to discover the truth behind a mysterious piece of land in the small town of Solitude.\n",
            "Singer/songwriter and single mother Theresa McDermott has finally hit the end of the line in NYC. Unable to make ends meet, she is forced to pack up her life and her 3 girls and move back to the small town and parents she ran from a decade ago. Teresa needs a job, her parents need their space and a family tragedy that was never dealt with from years past needs closure. Old wounds, unattainable dreams and a few other things expose themselves as a fractured family works to become whole and a single mom, a responsible mother.\n",
            "A woman's dementia uncovers secrets of a 30-year-old crime as her daughter struggles to deal with the fallout\n",
            "Abbie came of age in honky tonks, defying her life threatening disease, but all the while longing for an identity of her own. Now that she is 18, how much is she willing to sacrifice for her independence?\n",
            "Larisa is 16 and lives in a city by the sea. It's a small city, where gossip and news spread fast. It's a city where your image and influence, \"manelele\", money and power are all that matters. And Larisa… wants it all. And even if she doesn't have it, she fights for it. Larisa believes in herself. She knows that she deserves better. She is convinced that it's worth doing everything it takes to fulfill her dreams. And for her courage and recklessness - we love her.\n",
            "Passionate BMX dirt jumper, Phin Cooper, wants nothing in life but to attain fame in his sport. After missing a competition when he lands in jail for unpaid citations, he is court-ordered for community service and reluctantly mentors one of the toughest boys, Blue Espinosa. As Phin leads the troubled teen on exciting adventures of riding dirt trails, big jumps and cityscapes, Blue becomes more than an obligation - an unlikely friend whose secret world of drug trafficking threatens Phin's ultimate dream. Featuring some of the best stunts in dirt jumping by legendary pros and hardcore locals, Heroes of Dirt is more than adrenaline rush. It embarks on an unforgettable journey into real significance, and the price it takes to get there.\n",
            "In 2014, scientists declared West Antarctic ice sheet melt unstoppable, threatening the future of our planet. A group of world-class researchers is in a race to understand climate change in the fastest winter-warming place on earth: the West Antarctic Peninsula. Trekking through dangerous and uncharted landscape, these scientists push the limits of their research and come to terms with the sacrifices necessary to understand this rapidly changing world.\n",
            "A talented young filmmaker from New York sets off to Los Angeles in pursuit of the Hollywood dream, only to discover through his relationship with a beautiful feisty young actress, that Hollywood is not all that it seems.\n",
            "THE BLOOD OF MY BROTHER goes behind the scenes of one Iraqi family's struggle to survive amidst the carnage of the growing Shia insurgency. Nineteen-year-old Ibrahim dreams of revenge when his brother is shot and killed by an American patrol. With scenes of fighting and death on the streets of Baghdad, this is the closest most viewers will ever come to being in Iraq; kneeling in prayer amidst a thousand Muslim worshipers, feeling the roar of low-flying Apaches, riding atop a sixty-ton tank, driving with masked resistance fighters to attack American positions, fleeing the threat of an overwhelming response, the blood in the street, a tank on fire, or the cold, distant stare of a dead Iraqi fighter. Written by Andrew Berends.\n",
            "It is July, 2000 Richard Dutcher, the man who pioneered \"Mormon Cinema\" with his film \"God's Army\" is missing and presumed dead. Three amateur Mormon Filmmakers: Judy Shumway, Peter Beuhmann and Kevin Evans individually set out to make their first feature-length films to take Dutcher's place as the next \"Mormon Spielberg\". Who will win? Who will lose? Who will find Richard? And does everyone want Richard found?\n",
            "Left home alone with his dog Harry, young Ray finds himself in a bit of trouble when Harry gets loose in the suspicious neighbor's house and accidentally knocks over a top-secret invisibility potion! Now, with crooks and the FBI on his tail, Ray needs to find his invisible mischievous mutt before they do - and get Harry back before his parents get home!\n",
            "A group of college students travel to a small Texas town to research the Legend of Blood Lake, an obscure folktale forged by events surrounding the horrible massacre of a Comanche village.\n",
            "A gun-slinging preacher returns to the debaucherous town of Playa Diablo seeking revenge from the notorious scorpion-venom drinking bandito El Sobero - lead outlaw and number one bad guy. El Sobero and his band of bad banditos are also returning to Playa Diablo seeking their own revenge against the town sheriff. With the Bounty Hunter dragging up slowly behind there is sure to be a confrontation of Biblical proportions as they all meet in the circle of death.\n",
            "Crew of \"Paranormal Legends\" went to film their 4th season at the place where La Llorona (Weeping woman) was reportedly seen. Only thing that's left was 17 hours of tapes and 2 camcorders.\n",
            "A desperate ex-con is forced to gather his old crew for one last job to pay off his sister's debt to a dangerous local criminal.\n",
            "Created by the members of a Nairobi-based arts collective — who have removed their names from the film for fear of reprisal — this anthology film that dramatizes true-life stories from Kenya’s oppressed LGBTQ community is both a labour of love and a bold act of militancy.\n",
            "Recently dumped by his girlfirend for another man, working in a job he hates, things could be better for Peter.  One night, while he is alone in his apartment, there is a knock on the door.  His life will never be the same again.\n",
            "It should have been just a normal day of sex, fun, alcohol, hormones and debauchery for Tabitha and Mimi, two over-privileged twenty-somethings. But that so-called normalcy gets tossed out the window when a devastating event occurs at a pool party.\n"
          ]
        }
      ]
    },
    {
      "cell_type": "markdown",
      "source": [
        "# Movie overview --> Vector"
      ],
      "metadata": {
        "id": "X4iFYlAnZn6B"
      }
    },
    {
      "cell_type": "code",
      "source": [
        "def get_X(data=movies['overview'], vectorizer='bert'):\n",
        "    X = None\n",
        "    \n",
        "    if vectorizer == 'tfidf':\n",
        "        tfidf_vectorizer = TfidfVectorizer(stop_words='english')\n",
        "        X = tfidf_vectorizer.fit_transform(data).toarray()\n",
        "    elif vectorizer == 'bert':\n",
        "        bert = SentenceTransformer('all-MiniLM-L6-v2')\n",
        "        embeddings = []\n",
        "        for sentence in tqdm(data):\n",
        "            embedding = bert.encode(sentence)\n",
        "            embeddings.append(embedding)\n",
        "        X = embeddings\n",
        "    else:\n",
        "        raise NotImplementedError\n",
        "\n",
        "    return np.array(X)"
      ],
      "metadata": {
        "id": "tEupgvQ1ZpLv"
      },
      "execution_count": null,
      "outputs": []
    },
    {
      "cell_type": "code",
      "source": [
        "X = get_X(data=movies['overview'], vectorizer='tfidf')"
      ],
      "metadata": {
        "id": "2qH3a6uSa2au"
      },
      "execution_count": null,
      "outputs": []
    },
    {
      "cell_type": "code",
      "source": [
        "y = np.array(movies['vote_average'])"
      ],
      "metadata": {
        "id": "i8ZKdNXXfX12"
      },
      "execution_count": null,
      "outputs": []
    },
    {
      "cell_type": "code",
      "source": [
        "X_train, X_test, y_train, y_test = train_test_split(\n",
        "    X, y, test_size=0.20, random_state=42\n",
        ")"
      ],
      "metadata": {
        "id": "Ek8EtuAKf_4Z"
      },
      "execution_count": null,
      "outputs": []
    },
    {
      "cell_type": "code",
      "source": [
        "print(X_train.shape, X_test.shape, y_train.shape, y_test.shape)"
      ],
      "metadata": {
        "id": "gNUwbA5GgVYh",
        "colab": {
          "base_uri": "https://localhost:8080/"
        },
        "outputId": "7b23f87e-b7eb-4ce5-9729-08cdfb54ebd5"
      },
      "execution_count": null,
      "outputs": [
        {
          "output_type": "stream",
          "name": "stdout",
          "text": [
            "(3842, 20978) (961, 20978) (3842,) (961,)\n"
          ]
        }
      ]
    },
    {
      "cell_type": "code",
      "source": [
        "X_train = torch.from_numpy(X_train.astype(np.float64))\n",
        "y_train = torch.from_numpy(y_train.astype(np.float64))\n",
        "y_train = y_train.view(y_train.shape[0], 1)\n",
        "\n",
        "X_test = torch.from_numpy(X_test.astype(np.float64))\n",
        "y_test = torch.from_numpy(y_test.astype(np.float64))\n",
        "y_test = y_test.view(y_test.shape[0], 1)"
      ],
      "metadata": {
        "id": "M8dbJUDakisk"
      },
      "execution_count": null,
      "outputs": []
    },
    {
      "cell_type": "markdown",
      "source": [
        "# Model"
      ],
      "metadata": {
        "id": "xrjBEGdObKyw"
      }
    },
    {
      "cell_type": "code",
      "source": [
        "EPOCHS = 10\n",
        "INPUT_SIZE = 20978\n",
        "HIDDEN_SIZE = 256\n",
        "OUTPUT_SIZE = 1\n",
        "LEARNING_RATE = 1e-3\n",
        "EPS = 1e-4"
      ],
      "metadata": {
        "id": "X7fI3-aDk1H-"
      },
      "execution_count": null,
      "outputs": []
    },
    {
      "cell_type": "code",
      "source": [
        "X = X_train\n",
        "y = y_train\n",
        "\n",
        "model = torch.nn.Sequential(\n",
        "    torch.nn.Linear(INPUT_SIZE, HIDDEN_SIZE),\n",
        "    torch.nn.ReLU(torch.nn.Linear(HIDDEN_SIZE, HIDDEN_SIZE)),\n",
        "    torch.nn.Linear(HIDDEN_SIZE, OUTPUT_SIZE)\n",
        ").double()\n",
        "\n",
        "criterion = torch.nn.MSELoss()\n",
        "optimizer = torch.optim.Adam(model.parameters(), lr=LEARNING_RATE)"
      ],
      "metadata": {
        "id": "2DEmJNaWbLiz"
      },
      "execution_count": null,
      "outputs": []
    },
    {
      "cell_type": "code",
      "source": [
        "losses = []\n",
        "\n",
        "for epoch in tqdm(range(EPOCHS)):\n",
        "    y_predicted = model(X)\n",
        "    loss = criterion(y_predicted, y)\n",
        "    \n",
        "    loss.backward()\n",
        "    \n",
        "    optimizer.step()\n",
        "    optimizer.zero_grad()\n",
        "    \n",
        "    losses.append(loss.item())\n",
        "\n",
        "    if len(losses) >= 2 and losses[-1] - losses[-2] >= EPS:\n",
        "        break"
      ],
      "metadata": {
        "colab": {
          "base_uri": "https://localhost:8080/"
        },
        "id": "GLWehJYakyU_",
        "outputId": "a414a17e-0ef3-4ff4-ed61-65f3c4960e16"
      },
      "execution_count": null,
      "outputs": [
        {
          "output_type": "stream",
          "name": "stderr",
          "text": [
            "100%|██████████| 10/10 [00:25<00:00,  2.54s/it]\n"
          ]
        }
      ]
    },
    {
      "cell_type": "code",
      "source": [
        "plt.plot(losses)\n",
        "plt.show()"
      ],
      "metadata": {
        "colab": {
          "base_uri": "https://localhost:8080/",
          "height": 265
        },
        "id": "xv40pC6AlRMX",
        "outputId": "e80631ab-2b9f-41e3-946d-81a6668d8146"
      },
      "execution_count": null,
      "outputs": [
        {
          "output_type": "display_data",
          "data": {
            "text/plain": [
              "<Figure size 432x288 with 1 Axes>"
            ],
            "image/png": "[encoded data removed]"
          },
          "metadata": {
            "needs_background": "light"
          }
        }
      ]
    },
    {
      "cell_type": "code",
      "source": [
        "predicted = model(X_test).detach().numpy()\n",
        "r2_score(y_test, predicted)"
      ],
      "metadata": {
        "colab": {
          "base_uri": "https://localhost:8080/"
        },
        "id": "hNWOcoF8lb6h",
        "outputId": "82d79a16-aec3-4509-e60d-0bc21b99284f"
      },
      "execution_count": null,
      "outputs": [
        {
          "output_type": "execute_result",
          "data": {
            "text/plain": [
              "-22.687438386635307"
            ]
          },
          "metadata": {},
          "execution_count": 68
        }
      ]
    },
    {
      "cell_type": "code",
      "source": [],
      "metadata": {
        "id": "3UcnEd72WpOI"
      },
      "execution_count": null,
      "outputs": []
    }
  ]
}