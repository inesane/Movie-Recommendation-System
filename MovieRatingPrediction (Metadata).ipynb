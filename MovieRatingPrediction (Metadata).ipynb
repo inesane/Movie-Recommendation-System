{
  "nbformat": 4,
  "nbformat_minor": 0,
  "metadata": {
    "colab": {
      "provenance": []
    },
    "kernelspec": {
      "name": "python3",
      "display_name": "Python 3"
    },
    "language_info": {
      "name": "python"
    }
  },
  "cells": [
    {
      "cell_type": "code",
      "source": [
        "!gdown --id 1zu97TwzyU2T8OVvQ2VMof-XqHDX_fxPf"
      ],
      "metadata": {
        "colab": {
          "base_uri": "https://localhost:8080/"
        },
        "id": "cSYXMRpjunyX",
        "outputId": "c68554e3-74af-4948-d6c5-4027aadde963"
      },
      "execution_count": null,
      "outputs": [
        {
          "output_type": "stream",
          "name": "stdout",
          "text": [
            "/usr/local/lib/python3.7/dist-packages/gdown/cli.py:131: FutureWarning: Option `--id` was deprecated in version 4.3.1 and will be removed in 5.0. You don't need to pass it anymore to use a file ID.\n",
            "  category=FutureWarning,\n",
            "Downloading...\n",
            "From: https://drive.google.com/uc?id=1zu97TwzyU2T8OVvQ2VMof-XqHDX_fxPf\n",
            "To: /content/data_merged.csv\n",
            "100% 227M/227M [00:01<00:00, 210MB/s]\n"
          ]
        }
      ]
    },
    {
      "cell_type": "code",
      "source": [
        "import pandas as pd\n",
        "import numpy as np\n",
        "\n",
        "from keras.utils import to_categorical\n",
        "from sklearn.model_selection import train_test_split\n",
        "\n",
        "from sklearn.linear_model import (\n",
        "    LinearRegression, \n",
        "    SGDRegressor, \n",
        "    LogisticRegression\n",
        ")\n",
        "from sklearn.svm import LinearSVC\n",
        "\n",
        "# from sklearn.preprocessing import normalize\n",
        "from sklearn.pipeline import make_pipeline\n",
        "from sklearn.preprocessing import StandardScaler\n",
        "\n",
        "SEED = 42\n",
        "TEST_SIZE = 0.2"
      ],
      "metadata": {
        "id": "BmA9NeprvQ5h"
      },
      "execution_count": null,
      "outputs": []
    },
    {
      "cell_type": "code",
      "source": [
        "data = pd.read_csv('./data_merged.csv')"
      ],
      "metadata": {
        "id": "h6ZY389kvQMO"
      },
      "execution_count": null,
      "outputs": []
    },
    {
      "cell_type": "code",
      "source": [
        "def get_filtered_X(X, relevant_columns):\n",
        "    non_relevant_cols = [col for col in data.columns if col not in relevant_columns]\n",
        "    \n",
        "    for col in non_relevant_cols:\n",
        "        X = X.drop(col, axis=1)\n",
        "    \n",
        "    return X.to_numpy()"
      ],
      "metadata": {
        "id": "OdnUmPUkuwkL"
      },
      "execution_count": null,
      "outputs": []
    },
    {
      "cell_type": "code",
      "source": [
        "import re\n",
        "import ast\n",
        "\n",
        "for i in range(len(data['crew'])): \n",
        "  names = \"\"\n",
        "  try:\n",
        "    data['crew'][i] = data['crew'][i].replace(\"[\",\"\").replace(\"]\",\"\").replace(\"},\",\"} -\")\n",
        "    x = data['crew'][i].split(\" - \")\n",
        "    for j in x:\n",
        "      try:\n",
        "        j = ast.literal_eval(j)\n",
        "        names = names + j['name'].lower() + \":\"\n",
        "      except:\n",
        "        pass\n",
        "    data['crew'][i] = names\n",
        "  except:\n",
        "    data['crew'][i] = \"\"\n",
        "\n",
        "for i in range(len(data['cast'])): \n",
        "  names = \"\"\n",
        "  try:\n",
        "    data['cast'][i] = data['cast'][i].replace(\"[\",\"\").replace(\"]\",\"\").replace(\"},\",\"} -\")\n",
        "    x = data['cast'][i].split(\" - \")\n",
        "    for j in x:\n",
        "      try:\n",
        "        j = ast.literal_eval(j)\n",
        "        names = names + j['name'].lower() + \":\"\n",
        "      except:\n",
        "        pass\n",
        "    data['cast'][i] = names\n",
        "  except:\n",
        "    data['cast'][i] = \"\"\n",
        "\n",
        "for i in range(len(data['genres'])): \n",
        "  names = \"\"\n",
        "  try:\n",
        "    data['genres'][i] = data['genres'][i].replace(\"[\",\"\").replace(\"]\",\"\").replace(\"},\",\"} -\")\n",
        "    x = data['genres'][i].split(\" - \")\n",
        "    for j in x:\n",
        "      try:\n",
        "        j = ast.literal_eval(j)\n",
        "        names = names + j['name'].lower() + \":\"\n",
        "      except:\n",
        "        pass\n",
        "    data['genres'][i] = names\n",
        "  except:\n",
        "    data['genres'][i] = \"\"\n",
        "    \n"
      ],
      "metadata": {
        "colab": {
          "base_uri": "https://localhost:8080/"
        },
        "id": "ww4Hk53tYOxc",
        "outputId": "906b15b1-d8c4-47f3-cb11-a89730e7b5ea"
      },
      "execution_count": null,
      "outputs": [
        {
          "output_type": "stream",
          "name": "stderr",
          "text": [
            "/usr/local/lib/python3.7/dist-packages/ipykernel_launcher.py:7: SettingWithCopyWarning: \n",
            "A value is trying to be set on a copy of a slice from a DataFrame\n",
            "\n",
            "See the caveats in the documentation: https://pandas.pydata.org/pandas-docs/stable/user_guide/indexing.html#returning-a-view-versus-a-copy\n",
            "  import sys\n",
            "/usr/local/lib/python3.7/dist-packages/ipykernel_launcher.py:15: SettingWithCopyWarning: \n",
            "A value is trying to be set on a copy of a slice from a DataFrame\n",
            "\n",
            "See the caveats in the documentation: https://pandas.pydata.org/pandas-docs/stable/user_guide/indexing.html#returning-a-view-versus-a-copy\n",
            "  from ipykernel import kernelapp as app\n",
            "/usr/local/lib/python3.7/dist-packages/ipykernel_launcher.py:22: SettingWithCopyWarning: \n",
            "A value is trying to be set on a copy of a slice from a DataFrame\n",
            "\n",
            "See the caveats in the documentation: https://pandas.pydata.org/pandas-docs/stable/user_guide/indexing.html#returning-a-view-versus-a-copy\n",
            "/usr/local/lib/python3.7/dist-packages/ipykernel_launcher.py:30: SettingWithCopyWarning: \n",
            "A value is trying to be set on a copy of a slice from a DataFrame\n",
            "\n",
            "See the caveats in the documentation: https://pandas.pydata.org/pandas-docs/stable/user_guide/indexing.html#returning-a-view-versus-a-copy\n",
            "/usr/local/lib/python3.7/dist-packages/ipykernel_launcher.py:37: SettingWithCopyWarning: \n",
            "A value is trying to be set on a copy of a slice from a DataFrame\n",
            "\n",
            "See the caveats in the documentation: https://pandas.pydata.org/pandas-docs/stable/user_guide/indexing.html#returning-a-view-versus-a-copy\n",
            "/usr/local/lib/python3.7/dist-packages/ipykernel_launcher.py:45: SettingWithCopyWarning: \n",
            "A value is trying to be set on a copy of a slice from a DataFrame\n",
            "\n",
            "See the caveats in the documentation: https://pandas.pydata.org/pandas-docs/stable/user_guide/indexing.html#returning-a-view-versus-a-copy\n"
          ]
        }
      ]
    },
    {
      "cell_type": "code",
      "source": [
        "Cast = []\n",
        "Crew = []\n",
        "Genre = []\n",
        "def extract_feats():\n",
        "  top_directors = ['quentin tarantino', 'christopher nolan', 'martin scorsese', 'steven spielberg']\n",
        "  top_genres = ['adventure', 'science fiction', 'thriller', 'drama', 'action', 'fantasy']\n",
        "  # genre_matrix = {'adventure' : 0.8, 'science fiction' : 0.55, 'thriller' : 0.6, 'drama': 0.7, 'action' : 0.5 , 'fantasy': 0.65}\n",
        "  top_actors = ['leonardo dicaprio', 'tom hanks', 'tom cruise', 'jack nicholson', 'christian bale', 'brad pitt', 'al pacino']\n",
        "  \n",
        "\n",
        "  for i in data['cast']:\n",
        "    i = i.split(':')\n",
        "    cast = 0\n",
        "    for j in i:\n",
        "      if j in top_actors:\n",
        "        cast = 1\n",
        "        break\n",
        "    Cast.append(cast)\n",
        "  for i in data['crew']:\n",
        "    i = i.split(':')\n",
        "    crew = 0\n",
        "    for j in i:\n",
        "      if j in top_directors:\n",
        "        crew = 1\n",
        "        break\n",
        "    Crew.append(crew)\n",
        "  for i in data['genres']:\n",
        "    i = i.split(':')\n",
        "    genre = 0\n",
        "    for j in i:\n",
        "      if j in top_genres:\n",
        "        genre = 1\n",
        "        break\n",
        "    Genre.append(genre)\n",
        "\n",
        "extract_feats()\n",
        "data = data.fillna(0)\n",
        "data['release_date'] = data['release_date'].apply(\n",
        "    lambda x: 2022 - int(str(x)[:4])\n",
        ")\n",
        "\n",
        "Revenue = list(data['revenue'])  \n",
        "Budget = list(data['budget'])\n",
        "Runtime = list(data['runtime'])\n",
        "Popularity = list(data['popularity'])\n",
        "Release_date = list(data['release_date'])\n",
        "\n"
      ],
      "metadata": {
        "id": "m6pysivhVzpJ"
      },
      "execution_count": null,
      "outputs": []
    },
    {
      "cell_type": "code",
      "source": [
        "#normalize\n",
        "\n",
        "r_mean = np.mean(np.array(Revenue))\n",
        "r_max = np.max(np.array(Revenue))\n",
        "\n",
        "for i in range(len(Revenue)):\n",
        "  Revenue[i] = (Revenue[i] - r_mean)/r_max\n",
        "\n",
        "\n",
        "r_mean = np.mean(np.array(Budget))\n",
        "r_max = np.max(np.array(Budget))\n",
        "\n",
        "for i in range(len(Budget)):\n",
        "  Budget[i] = (Budget[i] - r_mean)/r_max\n"
      ],
      "metadata": {
        "id": "lRAEUOXwuMgF"
      },
      "execution_count": null,
      "outputs": []
    },
    {
      "cell_type": "code",
      "source": [
        "X = np.array(list(zip(Revenue,Budget,Genre,Cast,Crew, Runtime,Popularity)))\n",
        "y = np.array(list(data['vote_average']))\n",
        "print(y.shape)"
      ],
      "metadata": {
        "colab": {
          "base_uri": "https://localhost:8080/"
        },
        "id": "5CO9-1ChwWTq",
        "outputId": "982d4c51-23c2-40fa-dbf1-43060b4fe8c9"
      },
      "execution_count": null,
      "outputs": [
        {
          "output_type": "stream",
          "name": "stdout",
          "text": [
            "(46628,)\n"
          ]
        }
      ]
    },
    {
      "cell_type": "code",
      "source": [
        "def process(X, y):\n",
        "    new_X, new_y = [], []\n",
        "    \n",
        "    for Xi, yi in zip(X, y):\n",
        "        if Xi[0] <= 0 or Xi[1] <= 0: continue\n",
        "\n",
        "        new_X.append(Xi)\n",
        "        new_y.append(yi)\n",
        "\n",
        "    return new_X, new_y\n",
        "\n",
        "X, y = process(X, y)\n",
        "y = np.array(y)\n",
        "print(len(X), len(y))"
      ],
      "metadata": {
        "colab": {
          "base_uri": "https://localhost:8080/"
        },
        "id": "Q284I7VXx1AM",
        "outputId": "ed26ceba-5a53-4de1-fa45-5152061366a0"
      },
      "execution_count": null,
      "outputs": [
        {
          "output_type": "stream",
          "name": "stdout",
          "text": [
            "3399 3399\n"
          ]
        }
      ]
    },
    {
      "cell_type": "code",
      "source": [
        "\n",
        "# rb = [float(i/j) for i,j,k,l,m,n,o,p in X]\n",
        "# Genre = [k for i,j,k,l,m,n,o,p in X]\n",
        "# Cast = [l for i,j,k,l,m,n,o,p in X]\n",
        "# Crew = [m for i,j,k,l,m,n,o,p in X]\n",
        "# Runtime = [n for i,j,k,l,m,n,o,p in X]\n",
        "# Popularity = [o for i,j,k,l,m,n,o,p in X]\n",
        "# Release_date = [p for i,j,k,l,m,n,o,p in X]\n",
        "\n",
        "# X = np.array(list(zip(rb,Genre,Cast,Crew, Runtime,Popularity,Release_date,)))\n",
        "\n",
        "# print(X.shape)\n"
      ],
      "metadata": {
        "colab": {
          "base_uri": "https://localhost:8080/"
        },
        "id": "T4dWnAxnqnln",
        "outputId": "75ffb73c-c313-4df2-849d-16acd4995f42"
      },
      "execution_count": null,
      "outputs": [
        {
          "output_type": "stream",
          "name": "stdout",
          "text": [
            "(5458, 7)\n"
          ]
        }
      ]
    },
    {
      "cell_type": "code",
      "source": [
        "def regression(X, y, choice='lr'):\n",
        "    X_train, X_test, y_train, y_test = train_test_split(\n",
        "       X, y, test_size=TEST_SIZE, random_state=SEED\n",
        "    )\n",
        "    regressor = None\n",
        "    if choice == 'lr':\n",
        "        regressor = LinearRegression()\n",
        "    elif choice == 'sgd':\n",
        "        regressor = SGDRegressor(max_iter=1000, tol=1e-3)\n",
        "    else:\n",
        "        raise NotImplementedError\n",
        "\n",
        "    model = make_pipeline(StandardScaler(), regressor)\n",
        "    model.fit(X_train, y_train)\n",
        "    print(f\"{choice} score: {model.score(X_test, y_test)}\")\n",
        "    return"
      ],
      "metadata": {
        "id": "1-1WGoRu2oNC"
      },
      "execution_count": null,
      "outputs": []
    },
    {
      "cell_type": "code",
      "source": [
        "regression(X, y, 'lr')\n",
        "regression(X, y, 'sgd')"
      ],
      "metadata": {
        "colab": {
          "base_uri": "https://localhost:8080/"
        },
        "id": "MpsWaf2L3Rl0",
        "outputId": "8752e680-bf6d-4d1f-c994-a476e0fed7e2"
      },
      "execution_count": null,
      "outputs": [
        {
          "output_type": "stream",
          "name": "stdout",
          "text": [
            "lr score: 0.2799244941397596\n",
            "sgd score: 0.27490078190351974\n"
          ]
        }
      ]
    },
    {
      "cell_type": "code",
      "source": [],
      "metadata": {
        "id": "55Sw7LjzF1Iq"
      },
      "execution_count": null,
      "outputs": []
    },
    {
      "cell_type": "code",
      "source": [
        "def convert_to_categorical(y):\n",
        "    y = list(map(int, y))\n",
        "    y = to_categorical(y)\n",
        "    return y\n",
        "\n",
        "def classification(X, y, choice='lr'):\n",
        "    y = list(map(int, y))\n",
        "\n",
        "    X_train, X_test, y_train, y_test = train_test_split(\n",
        "       X, y, test_size=TEST_SIZE, random_state=SEED\n",
        "    )\n",
        "\n",
        "    classifier = None\n",
        "    if choice == 'lr':\n",
        "        classifier = LogisticRegression(max_iter=5000)\n",
        "    elif choice == 'svc':\n",
        "        classifier = LinearSVC(max_iter=5000)\n",
        "    else:\n",
        "        raise NotImplementedError\n",
        "\n",
        "    model = make_pipeline(StandardScaler(), classifier)\n",
        "    model.fit(X_train, y_train)\n",
        "    print(f\"{choice} score: {model.score(X_test, y_test)}\")\n",
        "    return model"
      ],
      "metadata": {
        "id": "XDHnoct03f57"
      },
      "execution_count": null,
      "outputs": []
    },
    {
      "cell_type": "code",
      "source": [
        "lr = classification(X, y, 'lr')\n",
        "svc = classification(X, y, 'svc')"
      ],
      "metadata": {
        "colab": {
          "base_uri": "https://localhost:8080/"
        },
        "id": "d4t7HR_W1h8V",
        "outputId": "758dea33-b7dd-48a4-863e-37888e5a1938"
      },
      "execution_count": null,
      "outputs": [
        {
          "output_type": "stream",
          "name": "stdout",
          "text": [
            "lr score: 0.5367647058823529\n",
            "svc score: 0.5352941176470588\n"
          ]
        },
        {
          "output_type": "stream",
          "name": "stderr",
          "text": [
            "/usr/local/lib/python3.7/dist-packages/sklearn/svm/_base.py:1208: ConvergenceWarning: Liblinear failed to converge, increase the number of iterations.\n",
            "  ConvergenceWarning,\n"
          ]
        }
      ]
    },
    {
      "cell_type": "code",
      "source": [
        "from joblib import dump\n",
        "\n",
        "dump(lr, 'logreg.joblib')\n",
        "dump(svc, 'svc.joblib')"
      ],
      "metadata": {
        "colab": {
          "base_uri": "https://localhost:8080/"
        },
        "id": "njqQzbwZmgby",
        "outputId": "4cd3f085-11c5-452c-c800-96f88bd18e4b"
      },
      "execution_count": null,
      "outputs": [
        {
          "output_type": "execute_result",
          "data": {
            "text/plain": [
              "['svc.joblib']"
            ]
          },
          "metadata": {},
          "execution_count": 121
        }
      ]
    }
  ]
}