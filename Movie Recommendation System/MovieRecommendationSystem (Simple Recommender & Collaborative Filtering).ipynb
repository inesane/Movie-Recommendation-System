{
 "cells": [
  {
   "cell_type": "markdown",
   "metadata": {
    "_cell_guid": "da447453-96e3-48fe-93cd-b9195433add6",
    "_uuid": "b63091dc0b9d04f19ab8861754a83b79c1789e96"
   },
   "source": [
    "# Movies Recommender System"
   ]
  },
  {
   "cell_type": "markdown",
   "metadata": {
    "_cell_guid": "5ec09319-a139-488b-b9fa-51780fd771dc",
    "_uuid": "93799938d163a5c4d6097e04fc566c04a1237718"
   },
   "source": [
    "![](http://labs.criteo.com/wp-content/uploads/2017/08/CustomersWhoBought3.jpg)"
   ]
  },
  {
   "cell_type": "code",
   "execution_count": 1,
   "metadata": {
    "_cell_guid": "78fea705-f9ad-4a81-aafd-8b7b624110d1",
    "_uuid": "1c291fe3725c706e0003f01f0102abb9709f25fc"
   },
   "outputs": [],
   "source": [
    "%matplotlib inline\n",
    "import pandas as pd\n",
    "import numpy as np\n",
    "from ast import literal_eval\n",
    "from nltk.stem.snowball import SnowballStemmer\n",
    "from surprise import Reader, Dataset, SVD\n",
    "from surprise.model_selection import cross_validate\n",
    "\n",
    "import warnings; warnings.simplefilter('ignore')"
   ]
  },
  {
   "cell_type": "markdown",
   "metadata": {
    "_cell_guid": "f130bae8-1bb0-415d-9a39-557fe180b490",
    "_uuid": "49131e65f312719487848f6ef42488041a44028e"
   },
   "source": [
    "## Simple Recommender"
   ]
  },
  {
   "cell_type": "code",
   "execution_count": 35,
   "metadata": {
    "_cell_guid": "0356d2a0-d8b2-4234-af78-bd51eaa3a390",
    "_uuid": "e0d62612bc9b9e9561afdc48fd1e75a9b0c82337"
   },
   "outputs": [
    {
     "data": {
      "text/html": [
       "<div>\n",
       "<style scoped>\n",
       "    .dataframe tbody tr th:only-of-type {\n",
       "        vertical-align: middle;\n",
       "    }\n",
       "\n",
       "    .dataframe tbody tr th {\n",
       "        vertical-align: top;\n",
       "    }\n",
       "\n",
       "    .dataframe thead th {\n",
       "        text-align: right;\n",
       "    }\n",
       "</style>\n",
       "<table border=\"1\" class=\"dataframe\">\n",
       "  <thead>\n",
       "    <tr style=\"text-align: right;\">\n",
       "      <th></th>\n",
       "      <th>adult</th>\n",
       "      <th>belongs_to_collection</th>\n",
       "      <th>budget</th>\n",
       "      <th>genres</th>\n",
       "      <th>homepage</th>\n",
       "      <th>id</th>\n",
       "      <th>imdb_id</th>\n",
       "      <th>original_language</th>\n",
       "      <th>original_title</th>\n",
       "      <th>overview</th>\n",
       "      <th>...</th>\n",
       "      <th>release_date</th>\n",
       "      <th>revenue</th>\n",
       "      <th>runtime</th>\n",
       "      <th>spoken_languages</th>\n",
       "      <th>status</th>\n",
       "      <th>tagline</th>\n",
       "      <th>title</th>\n",
       "      <th>video</th>\n",
       "      <th>vote_average</th>\n",
       "      <th>vote_count</th>\n",
       "    </tr>\n",
       "  </thead>\n",
       "  <tbody>\n",
       "    <tr>\n",
       "      <th>0</th>\n",
       "      <td>False</td>\n",
       "      <td>{'id': 10194, 'name': 'Toy Story Collection', ...</td>\n",
       "      <td>30000000</td>\n",
       "      <td>[{'id': 16, 'name': 'Animation'}, {'id': 35, '...</td>\n",
       "      <td>http://toystory.disney.com/toy-story</td>\n",
       "      <td>862</td>\n",
       "      <td>tt0114709</td>\n",
       "      <td>en</td>\n",
       "      <td>Toy Story</td>\n",
       "      <td>Led by Woody, Andy's toys live happily in his ...</td>\n",
       "      <td>...</td>\n",
       "      <td>1995-10-30</td>\n",
       "      <td>373554033.0</td>\n",
       "      <td>81.0</td>\n",
       "      <td>[{'iso_639_1': 'en', 'name': 'English'}]</td>\n",
       "      <td>Released</td>\n",
       "      <td>NaN</td>\n",
       "      <td>Toy Story</td>\n",
       "      <td>False</td>\n",
       "      <td>7.7</td>\n",
       "      <td>5415.0</td>\n",
       "    </tr>\n",
       "    <tr>\n",
       "      <th>1</th>\n",
       "      <td>False</td>\n",
       "      <td>NaN</td>\n",
       "      <td>65000000</td>\n",
       "      <td>[{'id': 12, 'name': 'Adventure'}, {'id': 14, '...</td>\n",
       "      <td>NaN</td>\n",
       "      <td>8844</td>\n",
       "      <td>tt0113497</td>\n",
       "      <td>en</td>\n",
       "      <td>Jumanji</td>\n",
       "      <td>When siblings Judy and Peter discover an encha...</td>\n",
       "      <td>...</td>\n",
       "      <td>1995-12-15</td>\n",
       "      <td>262797249.0</td>\n",
       "      <td>104.0</td>\n",
       "      <td>[{'iso_639_1': 'en', 'name': 'English'}, {'iso...</td>\n",
       "      <td>Released</td>\n",
       "      <td>Roll the dice and unleash the excitement!</td>\n",
       "      <td>Jumanji</td>\n",
       "      <td>False</td>\n",
       "      <td>6.9</td>\n",
       "      <td>2413.0</td>\n",
       "    </tr>\n",
       "    <tr>\n",
       "      <th>2</th>\n",
       "      <td>False</td>\n",
       "      <td>{'id': 119050, 'name': 'Grumpy Old Men Collect...</td>\n",
       "      <td>0</td>\n",
       "      <td>[{'id': 10749, 'name': 'Romance'}, {'id': 35, ...</td>\n",
       "      <td>NaN</td>\n",
       "      <td>15602</td>\n",
       "      <td>tt0113228</td>\n",
       "      <td>en</td>\n",
       "      <td>Grumpier Old Men</td>\n",
       "      <td>A family wedding reignites the ancient feud be...</td>\n",
       "      <td>...</td>\n",
       "      <td>1995-12-22</td>\n",
       "      <td>0.0</td>\n",
       "      <td>101.0</td>\n",
       "      <td>[{'iso_639_1': 'en', 'name': 'English'}]</td>\n",
       "      <td>Released</td>\n",
       "      <td>Still Yelling. Still Fighting. Still Ready for...</td>\n",
       "      <td>Grumpier Old Men</td>\n",
       "      <td>False</td>\n",
       "      <td>6.5</td>\n",
       "      <td>92.0</td>\n",
       "    </tr>\n",
       "    <tr>\n",
       "      <th>3</th>\n",
       "      <td>False</td>\n",
       "      <td>NaN</td>\n",
       "      <td>16000000</td>\n",
       "      <td>[{'id': 35, 'name': 'Comedy'}, {'id': 18, 'nam...</td>\n",
       "      <td>NaN</td>\n",
       "      <td>31357</td>\n",
       "      <td>tt0114885</td>\n",
       "      <td>en</td>\n",
       "      <td>Waiting to Exhale</td>\n",
       "      <td>Cheated on, mistreated and stepped on, the wom...</td>\n",
       "      <td>...</td>\n",
       "      <td>1995-12-22</td>\n",
       "      <td>81452156.0</td>\n",
       "      <td>127.0</td>\n",
       "      <td>[{'iso_639_1': 'en', 'name': 'English'}]</td>\n",
       "      <td>Released</td>\n",
       "      <td>Friends are the people who let you be yourself...</td>\n",
       "      <td>Waiting to Exhale</td>\n",
       "      <td>False</td>\n",
       "      <td>6.1</td>\n",
       "      <td>34.0</td>\n",
       "    </tr>\n",
       "    <tr>\n",
       "      <th>4</th>\n",
       "      <td>False</td>\n",
       "      <td>{'id': 96871, 'name': 'Father of the Bride Col...</td>\n",
       "      <td>0</td>\n",
       "      <td>[{'id': 35, 'name': 'Comedy'}]</td>\n",
       "      <td>NaN</td>\n",
       "      <td>11862</td>\n",
       "      <td>tt0113041</td>\n",
       "      <td>en</td>\n",
       "      <td>Father of the Bride Part II</td>\n",
       "      <td>Just when George Banks has recovered from his ...</td>\n",
       "      <td>...</td>\n",
       "      <td>1995-02-10</td>\n",
       "      <td>76578911.0</td>\n",
       "      <td>106.0</td>\n",
       "      <td>[{'iso_639_1': 'en', 'name': 'English'}]</td>\n",
       "      <td>Released</td>\n",
       "      <td>Just When His World Is Back To Normal... He's ...</td>\n",
       "      <td>Father of the Bride Part II</td>\n",
       "      <td>False</td>\n",
       "      <td>5.7</td>\n",
       "      <td>173.0</td>\n",
       "    </tr>\n",
       "  </tbody>\n",
       "</table>\n",
       "<p>5 rows × 24 columns</p>\n",
       "</div>"
      ],
      "text/plain": [
       "   adult                              belongs_to_collection    budget  \\\n",
       "0  False  {'id': 10194, 'name': 'Toy Story Collection', ...  30000000   \n",
       "1  False                                                NaN  65000000   \n",
       "2  False  {'id': 119050, 'name': 'Grumpy Old Men Collect...         0   \n",
       "3  False                                                NaN  16000000   \n",
       "4  False  {'id': 96871, 'name': 'Father of the Bride Col...         0   \n",
       "\n",
       "                                              genres  \\\n",
       "0  [{'id': 16, 'name': 'Animation'}, {'id': 35, '...   \n",
       "1  [{'id': 12, 'name': 'Adventure'}, {'id': 14, '...   \n",
       "2  [{'id': 10749, 'name': 'Romance'}, {'id': 35, ...   \n",
       "3  [{'id': 35, 'name': 'Comedy'}, {'id': 18, 'nam...   \n",
       "4                     [{'id': 35, 'name': 'Comedy'}]   \n",
       "\n",
       "                               homepage     id    imdb_id original_language  \\\n",
       "0  http://toystory.disney.com/toy-story    862  tt0114709                en   \n",
       "1                                   NaN   8844  tt0113497                en   \n",
       "2                                   NaN  15602  tt0113228                en   \n",
       "3                                   NaN  31357  tt0114885                en   \n",
       "4                                   NaN  11862  tt0113041                en   \n",
       "\n",
       "                original_title  \\\n",
       "0                    Toy Story   \n",
       "1                      Jumanji   \n",
       "2             Grumpier Old Men   \n",
       "3            Waiting to Exhale   \n",
       "4  Father of the Bride Part II   \n",
       "\n",
       "                                            overview  ... release_date  \\\n",
       "0  Led by Woody, Andy's toys live happily in his ...  ...   1995-10-30   \n",
       "1  When siblings Judy and Peter discover an encha...  ...   1995-12-15   \n",
       "2  A family wedding reignites the ancient feud be...  ...   1995-12-22   \n",
       "3  Cheated on, mistreated and stepped on, the wom...  ...   1995-12-22   \n",
       "4  Just when George Banks has recovered from his ...  ...   1995-02-10   \n",
       "\n",
       "       revenue runtime                                   spoken_languages  \\\n",
       "0  373554033.0    81.0           [{'iso_639_1': 'en', 'name': 'English'}]   \n",
       "1  262797249.0   104.0  [{'iso_639_1': 'en', 'name': 'English'}, {'iso...   \n",
       "2          0.0   101.0           [{'iso_639_1': 'en', 'name': 'English'}]   \n",
       "3   81452156.0   127.0           [{'iso_639_1': 'en', 'name': 'English'}]   \n",
       "4   76578911.0   106.0           [{'iso_639_1': 'en', 'name': 'English'}]   \n",
       "\n",
       "     status                                            tagline  \\\n",
       "0  Released                                                NaN   \n",
       "1  Released          Roll the dice and unleash the excitement!   \n",
       "2  Released  Still Yelling. Still Fighting. Still Ready for...   \n",
       "3  Released  Friends are the people who let you be yourself...   \n",
       "4  Released  Just When His World Is Back To Normal... He's ...   \n",
       "\n",
       "                         title  video vote_average vote_count  \n",
       "0                    Toy Story  False          7.7     5415.0  \n",
       "1                      Jumanji  False          6.9     2413.0  \n",
       "2             Grumpier Old Men  False          6.5       92.0  \n",
       "3            Waiting to Exhale  False          6.1       34.0  \n",
       "4  Father of the Bride Part II  False          5.7      173.0  \n",
       "\n",
       "[5 rows x 24 columns]"
      ]
     },
     "execution_count": 35,
     "metadata": {},
     "output_type": "execute_result"
    }
   ],
   "source": [
    "md = pd. read_csv('./input/movies_metadata.csv')\n",
    "md.head()"
   ]
  },
  {
   "cell_type": "code",
   "execution_count": 36,
   "metadata": {
    "_cell_guid": "f933a861-409a-4df7-98f1-7960a2a3874b",
    "_uuid": "d4df4c2158595611f2ea7ad4b16f71900e529ea8"
   },
   "outputs": [],
   "source": [
    "md['genres'] = md['genres'].fillna('[]').apply(literal_eval).apply(lambda x: [i['name'] for i in x] if isinstance(x, list) else [])"
   ]
  },
  {
   "cell_type": "code",
   "execution_count": 37,
   "metadata": {
    "_cell_guid": "de5d2a9a-9d67-4309-9256-844756318bd0",
    "_uuid": "1e732487caba09d9543f3da49cbe7ff5092e2675"
   },
   "outputs": [
    {
     "data": {
      "text/plain": [
       "5.618207215134184"
      ]
     },
     "execution_count": 37,
     "metadata": {},
     "output_type": "execute_result"
    }
   ],
   "source": [
    "vote_counts = md[md['vote_count'].notnull()]['vote_count'].astype('int')\n",
    "vote_averages = md[md['vote_average'].notnull()]['vote_average'].astype('float')\n",
    "C = vote_averages.mean()\n",
    "C"
   ]
  },
  {
   "cell_type": "code",
   "execution_count": 38,
   "metadata": {
    "_cell_guid": "f2a3dff7-6430-471b-bd83-589779ab52b0",
    "_uuid": "23c2e113380f1bad9205ab2d0f8c372b0c246e79"
   },
   "outputs": [
    {
     "data": {
      "text/plain": [
       "434.0"
      ]
     },
     "execution_count": 38,
     "metadata": {},
     "output_type": "execute_result"
    }
   ],
   "source": [
    "m = vote_counts.quantile(0.95)\n",
    "m"
   ]
  },
  {
   "cell_type": "code",
   "execution_count": 39,
   "metadata": {
    "_cell_guid": "93f480df-6e7b-427c-bbc0-906fd41640b0",
    "_uuid": "dbb8261dedb84e4a8ea8bed843c9de3ad9f3859d"
   },
   "outputs": [],
   "source": [
    "md['year'] = pd.to_datetime(md['release_date'], errors='coerce').apply(lambda x: str(x).split('-')[0] if x != np.nan else np.nan)"
   ]
  },
  {
   "cell_type": "code",
   "execution_count": 40,
   "metadata": {
    "_cell_guid": "e7e91af4-7ff5-4553-bfbb-b9339096397e",
    "_uuid": "dcb30bee69ef1a6ead2c745565e5e7bfd5314d7a"
   },
   "outputs": [
    {
     "data": {
      "text/plain": [
       "(2274, 6)"
      ]
     },
     "execution_count": 40,
     "metadata": {},
     "output_type": "execute_result"
    }
   ],
   "source": [
    "qualified = md[(md['vote_count'] >= m) & (md['vote_count'].notnull()) & (md['vote_average'].notnull())][['title', 'year', 'vote_count', 'vote_average', 'popularity', 'genres']]\n",
    "qualified['vote_count'] = qualified['vote_count'].astype('int')\n",
    "qualified['vote_average'] = qualified['vote_average'].astype('float')\n",
    "qualified.shape"
   ]
  },
  {
   "cell_type": "code",
   "execution_count": 41,
   "metadata": {
    "_cell_guid": "db959c40-7618-4755-a05a-5347f9460929",
    "_uuid": "6414e1aa7ed8cb4184ec451f02a18cd187e5345e"
   },
   "outputs": [],
   "source": [
    "def weighted_rating(x):\n",
    "    v = x['vote_count']\n",
    "    R = x['vote_average']\n",
    "    return (v/(v+m) * R) + (m/(m+v) * C)"
   ]
  },
  {
   "cell_type": "code",
   "execution_count": 42,
   "metadata": {
    "_cell_guid": "0f5e4384-51be-41df-a023-12a13e77d66c",
    "_uuid": "78ec5052b0e89ae51a834aa3a305cf55b6849f42"
   },
   "outputs": [],
   "source": [
    "qualified['wr'] = qualified.apply(weighted_rating, axis=1)"
   ]
  },
  {
   "cell_type": "code",
   "execution_count": 43,
   "metadata": {
    "_cell_guid": "ccbd8eca-cbfe-4843-9885-de11976f117c",
    "_uuid": "ed0ac7c8483f904d4f5ec0d554096d4782fa8bcf"
   },
   "outputs": [],
   "source": [
    "qualified = qualified.sort_values('wr', ascending=False).head(250)"
   ]
  },
  {
   "cell_type": "markdown",
   "metadata": {
    "_cell_guid": "36a1b9ac-aff3-4d80-9e19-83a45f282062",
    "_uuid": "75eb9e1de05386d229746785a25c6a5c6ee4b61a"
   },
   "source": [
    "### Top Movies"
   ]
  },
  {
   "cell_type": "code",
   "execution_count": 45,
   "metadata": {
    "_cell_guid": "0bca5b03-0835-4902-aaa1-beceb9d9d47f",
    "_uuid": "f7f6821b7e9aff099b81fcc425fd20109894b351"
   },
   "outputs": [
    {
     "data": {
      "text/html": [
       "<div>\n",
       "<style scoped>\n",
       "    .dataframe tbody tr th:only-of-type {\n",
       "        vertical-align: middle;\n",
       "    }\n",
       "\n",
       "    .dataframe tbody tr th {\n",
       "        vertical-align: top;\n",
       "    }\n",
       "\n",
       "    .dataframe thead th {\n",
       "        text-align: right;\n",
       "    }\n",
       "</style>\n",
       "<table border=\"1\" class=\"dataframe\">\n",
       "  <thead>\n",
       "    <tr style=\"text-align: right;\">\n",
       "      <th></th>\n",
       "      <th>title</th>\n",
       "      <th>year</th>\n",
       "      <th>vote_count</th>\n",
       "      <th>vote_average</th>\n",
       "      <th>popularity</th>\n",
       "      <th>genres</th>\n",
       "      <th>wr</th>\n",
       "    </tr>\n",
       "  </thead>\n",
       "  <tbody>\n",
       "    <tr>\n",
       "      <th>314</th>\n",
       "      <td>The Shawshank Redemption</td>\n",
       "      <td>1994</td>\n",
       "      <td>8358</td>\n",
       "      <td>8.5</td>\n",
       "      <td>51.645403</td>\n",
       "      <td>[Drama, Crime]</td>\n",
       "      <td>8.357746</td>\n",
       "    </tr>\n",
       "    <tr>\n",
       "      <th>834</th>\n",
       "      <td>The Godfather</td>\n",
       "      <td>1972</td>\n",
       "      <td>6024</td>\n",
       "      <td>8.5</td>\n",
       "      <td>41.109264</td>\n",
       "      <td>[Drama, Crime]</td>\n",
       "      <td>8.306334</td>\n",
       "    </tr>\n",
       "    <tr>\n",
       "      <th>12481</th>\n",
       "      <td>The Dark Knight</td>\n",
       "      <td>2008</td>\n",
       "      <td>12269</td>\n",
       "      <td>8.3</td>\n",
       "      <td>123.167259</td>\n",
       "      <td>[Drama, Action, Crime, Thriller]</td>\n",
       "      <td>8.208376</td>\n",
       "    </tr>\n",
       "    <tr>\n",
       "      <th>2843</th>\n",
       "      <td>Fight Club</td>\n",
       "      <td>1999</td>\n",
       "      <td>9678</td>\n",
       "      <td>8.3</td>\n",
       "      <td>63.869599</td>\n",
       "      <td>[Drama]</td>\n",
       "      <td>8.184899</td>\n",
       "    </tr>\n",
       "    <tr>\n",
       "      <th>292</th>\n",
       "      <td>Pulp Fiction</td>\n",
       "      <td>1994</td>\n",
       "      <td>8670</td>\n",
       "      <td>8.3</td>\n",
       "      <td>140.950236</td>\n",
       "      <td>[Thriller, Crime]</td>\n",
       "      <td>8.172155</td>\n",
       "    </tr>\n",
       "    <tr>\n",
       "      <th>351</th>\n",
       "      <td>Forrest Gump</td>\n",
       "      <td>1994</td>\n",
       "      <td>8147</td>\n",
       "      <td>8.2</td>\n",
       "      <td>48.307194</td>\n",
       "      <td>[Comedy, Drama, Romance]</td>\n",
       "      <td>8.069421</td>\n",
       "    </tr>\n",
       "    <tr>\n",
       "      <th>522</th>\n",
       "      <td>Schindler's List</td>\n",
       "      <td>1993</td>\n",
       "      <td>4436</td>\n",
       "      <td>8.3</td>\n",
       "      <td>41.725123</td>\n",
       "      <td>[Drama, History, War]</td>\n",
       "      <td>8.061007</td>\n",
       "    </tr>\n",
       "    <tr>\n",
       "      <th>23673</th>\n",
       "      <td>Whiplash</td>\n",
       "      <td>2014</td>\n",
       "      <td>4376</td>\n",
       "      <td>8.3</td>\n",
       "      <td>64.29999</td>\n",
       "      <td>[Drama]</td>\n",
       "      <td>8.058025</td>\n",
       "    </tr>\n",
       "    <tr>\n",
       "      <th>5481</th>\n",
       "      <td>Spirited Away</td>\n",
       "      <td>2001</td>\n",
       "      <td>3968</td>\n",
       "      <td>8.3</td>\n",
       "      <td>41.048867</td>\n",
       "      <td>[Fantasy, Adventure, Animation, Family]</td>\n",
       "      <td>8.035598</td>\n",
       "    </tr>\n",
       "    <tr>\n",
       "      <th>1154</th>\n",
       "      <td>The Empire Strikes Back</td>\n",
       "      <td>1980</td>\n",
       "      <td>5998</td>\n",
       "      <td>8.2</td>\n",
       "      <td>19.470959</td>\n",
       "      <td>[Adventure, Action, Science Fiction]</td>\n",
       "      <td>8.025793</td>\n",
       "    </tr>\n",
       "    <tr>\n",
       "      <th>15480</th>\n",
       "      <td>Inception</td>\n",
       "      <td>2010</td>\n",
       "      <td>14075</td>\n",
       "      <td>8.1</td>\n",
       "      <td>29.108149</td>\n",
       "      <td>[Action, Thriller, Science Fiction, Mystery, A...</td>\n",
       "      <td>8.025763</td>\n",
       "    </tr>\n",
       "    <tr>\n",
       "      <th>2211</th>\n",
       "      <td>Life Is Beautiful</td>\n",
       "      <td>1997</td>\n",
       "      <td>3643</td>\n",
       "      <td>8.3</td>\n",
       "      <td>39.39497</td>\n",
       "      <td>[Comedy, Drama]</td>\n",
       "      <td>8.014521</td>\n",
       "    </tr>\n",
       "    <tr>\n",
       "      <th>18465</th>\n",
       "      <td>The Intouchables</td>\n",
       "      <td>2011</td>\n",
       "      <td>5410</td>\n",
       "      <td>8.2</td>\n",
       "      <td>16.086919</td>\n",
       "      <td>[Drama, Comedy]</td>\n",
       "      <td>8.008265</td>\n",
       "    </tr>\n",
       "    <tr>\n",
       "      <th>22879</th>\n",
       "      <td>Interstellar</td>\n",
       "      <td>2014</td>\n",
       "      <td>11187</td>\n",
       "      <td>8.1</td>\n",
       "      <td>32.213481</td>\n",
       "      <td>[Adventure, Drama, Science Fiction]</td>\n",
       "      <td>8.007315</td>\n",
       "    </tr>\n",
       "    <tr>\n",
       "      <th>1178</th>\n",
       "      <td>The Godfather: Part II</td>\n",
       "      <td>1974</td>\n",
       "      <td>3418</td>\n",
       "      <td>8.3</td>\n",
       "      <td>36.629307</td>\n",
       "      <td>[Drama, Crime]</td>\n",
       "      <td>7.997846</td>\n",
       "    </tr>\n",
       "  </tbody>\n",
       "</table>\n",
       "</div>"
      ],
      "text/plain": [
       "                          title  year  vote_count  vote_average  popularity  \\\n",
       "314    The Shawshank Redemption  1994        8358           8.5   51.645403   \n",
       "834               The Godfather  1972        6024           8.5   41.109264   \n",
       "12481           The Dark Knight  2008       12269           8.3  123.167259   \n",
       "2843                 Fight Club  1999        9678           8.3   63.869599   \n",
       "292                Pulp Fiction  1994        8670           8.3  140.950236   \n",
       "351                Forrest Gump  1994        8147           8.2   48.307194   \n",
       "522            Schindler's List  1993        4436           8.3   41.725123   \n",
       "23673                  Whiplash  2014        4376           8.3    64.29999   \n",
       "5481              Spirited Away  2001        3968           8.3   41.048867   \n",
       "1154    The Empire Strikes Back  1980        5998           8.2   19.470959   \n",
       "15480                 Inception  2010       14075           8.1   29.108149   \n",
       "2211          Life Is Beautiful  1997        3643           8.3    39.39497   \n",
       "18465          The Intouchables  2011        5410           8.2   16.086919   \n",
       "22879              Interstellar  2014       11187           8.1   32.213481   \n",
       "1178     The Godfather: Part II  1974        3418           8.3   36.629307   \n",
       "\n",
       "                                                  genres        wr  \n",
       "314                                       [Drama, Crime]  8.357746  \n",
       "834                                       [Drama, Crime]  8.306334  \n",
       "12481                   [Drama, Action, Crime, Thriller]  8.208376  \n",
       "2843                                             [Drama]  8.184899  \n",
       "292                                    [Thriller, Crime]  8.172155  \n",
       "351                             [Comedy, Drama, Romance]  8.069421  \n",
       "522                                [Drama, History, War]  8.061007  \n",
       "23673                                            [Drama]  8.058025  \n",
       "5481             [Fantasy, Adventure, Animation, Family]  8.035598  \n",
       "1154                [Adventure, Action, Science Fiction]  8.025793  \n",
       "15480  [Action, Thriller, Science Fiction, Mystery, A...  8.025763  \n",
       "2211                                     [Comedy, Drama]  8.014521  \n",
       "18465                                    [Drama, Comedy]  8.008265  \n",
       "22879                [Adventure, Drama, Science Fiction]  8.007315  \n",
       "1178                                      [Drama, Crime]  7.997846  "
      ]
     },
     "execution_count": 45,
     "metadata": {},
     "output_type": "execute_result"
    }
   ],
   "source": [
    "qualified.head(15)"
   ]
  },
  {
   "cell_type": "markdown",
   "metadata": {},
   "source": [
    "### Data Prep"
   ]
  },
  {
   "cell_type": "code",
   "execution_count": 12,
   "metadata": {
    "_cell_guid": "bd5f4440-f90d-46a4-8640-204541d99d40",
    "_uuid": "dc237e14c8346bdd51624d21b6b082399afd3062"
   },
   "outputs": [],
   "source": [
    "links_small = pd.read_csv('./input/links_small.csv')\n",
    "links_small = links_small[links_small['tmdbId'].notnull()]['tmdbId'].astype('int')"
   ]
  },
  {
   "cell_type": "code",
   "execution_count": 13,
   "metadata": {
    "_cell_guid": "cda91291-c8d5-475a-8b0f-ab4030d29f62",
    "_uuid": "6c5af69fefa991d46594401a5eac0656e5980484"
   },
   "outputs": [],
   "source": [
    "md = md.drop([19730, 29503, 35587])"
   ]
  },
  {
   "cell_type": "code",
   "execution_count": 14,
   "metadata": {
    "_cell_guid": "85d2d5e0-165a-4ad5-860d-be1d1aa20c59",
    "_uuid": "aa399813ff512b0d7671e9bfcebf7f41ee139275"
   },
   "outputs": [],
   "source": [
    "credits = pd.read_csv('./input/credits.csv')\n",
    "keywords = pd.read_csv('./input/keywords.csv')"
   ]
  },
  {
   "cell_type": "code",
   "execution_count": 15,
   "metadata": {
    "_cell_guid": "5dc74705-17ee-41b8-932b-dc612c9426c5",
    "_uuid": "e82eb38c3ae53d500ad335943b4bd30a19f22d1a"
   },
   "outputs": [],
   "source": [
    "keywords['id'] = keywords['id'].astype('int')\n",
    "credits['id'] = credits['id'].astype('int')\n",
    "md['id'] = md['id'].astype('int')"
   ]
  },
  {
   "cell_type": "code",
   "execution_count": 16,
   "metadata": {
    "_cell_guid": "a120fca0-7236-4b97-97f8-970363ed02ed",
    "_uuid": "2f9fc363f77649b3ee41132e0b45f366726a25cb"
   },
   "outputs": [
    {
     "data": {
      "text/plain": [
       "(45463, 25)"
      ]
     },
     "execution_count": 16,
     "metadata": {},
     "output_type": "execute_result"
    }
   ],
   "source": [
    "md.shape"
   ]
  },
  {
   "cell_type": "code",
   "execution_count": 17,
   "metadata": {
    "_cell_guid": "39fbbbcd-a0d9-4ad3-9187-e6e2bdb4358e",
    "_uuid": "4b1ebc18f31eb017c6f4f173ab270807c73c002a"
   },
   "outputs": [],
   "source": [
    "md = md.merge(credits, on='id')\n",
    "md = md.merge(keywords, on='id')"
   ]
  },
  {
   "cell_type": "code",
   "execution_count": 18,
   "metadata": {
    "_cell_guid": "ecdbd741-d8b1-4083-ba26-6c347915f16d",
    "_uuid": "a017f13dce80c88ce2f9fc0d63c374c93e827baa"
   },
   "outputs": [
    {
     "name": "stdout",
     "output_type": "stream",
     "text": [
      "0                                               Toy Story\n",
      "1                                                 Jumanji\n",
      "2                                        Grumpier Old Men\n",
      "3                                       Waiting to Exhale\n",
      "4                             Father of the Bride Part II\n",
      "                              ...                        \n",
      "9214                       The Last Brickmaker in America\n",
      "9215                                               Rustom\n",
      "9216                                         Mohenjo Daro\n",
      "9217                                        Shin Godzilla\n",
      "9218    The Beatles: Eight Days a Week - The Touring Y...\n",
      "Name: title, Length: 9219, dtype: object\n"
     ]
    },
    {
     "data": {
      "text/plain": [
       "(9219, 29)"
      ]
     },
     "execution_count": 18,
     "metadata": {},
     "output_type": "execute_result"
    }
   ],
   "source": [
    "smd = md[md['id'].isin(links_small)]\n",
    "smd = smd.reset_index()\n",
    "titles = smd['title']\n",
    "print(smd['title'])\n",
    "smd.shape"
   ]
  },
  {
   "cell_type": "markdown",
   "metadata": {
    "_cell_guid": "a9a16fac-217d-4b36-b280-ca250ee921fe",
    "_uuid": "ddc06567eb0fe770c7f3b77f3cb7b777a6923f5c"
   },
   "source": [
    "## Collaborative Filtering"
   ]
  },
  {
   "cell_type": "code",
   "execution_count": 19,
   "metadata": {
    "_cell_guid": "632e75c9-0068-456a-82d5-8a8eb44e98df",
    "_uuid": "de715e5b70a605e3bd65ad50bbfa9b71aac1aef4"
   },
   "outputs": [],
   "source": [
    "reader = Reader()"
   ]
  },
  {
   "cell_type": "code",
   "execution_count": 20,
   "metadata": {
    "_cell_guid": "7b7a10d4-4f72-4c07-a514-ae5c2f0663a9",
    "_uuid": "18c484e823d3c4c1bbb91a5aa708e277c97cdaf1"
   },
   "outputs": [],
   "source": [
    "ratings = pd.read_csv('./input/ratings_small.csv')"
   ]
  },
  {
   "cell_type": "code",
   "execution_count": 21,
   "metadata": {
    "_cell_guid": "f2f755fd-c3ef-4095-add8-f88350cf1b36",
    "_uuid": "daa1711d353573b2dcf5145f1882397a2adcab27"
   },
   "outputs": [],
   "source": [
    "data = Dataset.load_from_df(ratings[['userId', 'movieId', 'rating']], reader)\n",
    "# data.split(n_folds=5)\n",
    "# cross_validate(svd, data, measures=['RMSE'], cv=10)\n",
    "# kf = KFold(n_splits=5)\n",
    "# kf.split(data)"
   ]
  },
  {
   "cell_type": "code",
   "execution_count": 22,
   "metadata": {
    "_cell_guid": "41ca3304-0fa5-401d-8c20-48b5c7cfb0d4",
    "_uuid": "edc105b14d9331d3adb44155c881670c5afacc41"
   },
   "outputs": [
    {
     "name": "stdout",
     "output_type": "stream",
     "text": [
      "Evaluating RMSE, MAE of algorithm SVD on 5 split(s).\n",
      "\n",
      "                  Fold 1  Fold 2  Fold 3  Fold 4  Fold 5  Mean    Std     \n",
      "RMSE (testset)    0.8924  0.9041  0.8900  0.9015  0.8956  0.8967  0.0053  \n",
      "MAE (testset)     0.6862  0.6968  0.6853  0.6949  0.6895  0.6906  0.0046  \n",
      "Fit time          0.68    0.74    0.70    0.70    0.68    0.70    0.02    \n",
      "Test time         0.07    0.06    0.12    0.06    0.12    0.09    0.03    \n"
     ]
    },
    {
     "data": {
      "text/plain": [
       "{'test_rmse': array([0.8923664 , 0.90409456, 0.890006  , 0.90146419, 0.89558167]),\n",
       " 'test_mae': array([0.68615538, 0.69683861, 0.6853181 , 0.69492325, 0.68954593]),\n",
       " 'fit_time': (0.6792447566986084,\n",
       "  0.7367193698883057,\n",
       "  0.6955678462982178,\n",
       "  0.6961543560028076,\n",
       "  0.6841263771057129),\n",
       " 'test_time': (0.0675361156463623,\n",
       "  0.06474947929382324,\n",
       "  0.12285542488098145,\n",
       "  0.06323695182800293,\n",
       "  0.1241145133972168)}"
      ]
     },
     "execution_count": 22,
     "metadata": {},
     "output_type": "execute_result"
    }
   ],
   "source": [
    "svd = SVD()\n",
    "# evaluate(svd, data, measures=['RMSE', 'MAE'])\n",
    "cross_validate(svd, data, measures=['RMSE', 'MAE'], cv=5, verbose=True)"
   ]
  },
  {
   "cell_type": "code",
   "execution_count": 23,
   "metadata": {
    "_cell_guid": "b39199fa-a02c-4509-852d-85020b36424d",
    "_uuid": "b588afd2750b0ba0793b953edac8c366222f8500",
    "scrolled": false
   },
   "outputs": [
    {
     "data": {
      "text/plain": [
       "<surprise.prediction_algorithms.matrix_factorization.SVD at 0x7fcd0db78ac0>"
      ]
     },
     "execution_count": 23,
     "metadata": {},
     "output_type": "execute_result"
    }
   ],
   "source": [
    "trainset = data.build_full_trainset()\n",
    "svd.fit(trainset)"
   ]
  },
  {
   "cell_type": "code",
   "execution_count": 24,
   "metadata": {},
   "outputs": [
    {
     "name": "stdout",
     "output_type": "stream",
     "text": [
      "['Die Hard', 'Jean de Florette', 'Layer Cake', 'Inventing the Abbotts', 'Lamerica', 'The Crow', 'Fools Rush In', 'Rosewood', 'Love and Other Catastrophes', 'The Apartment']\n"
     ]
    }
   ],
   "source": [
    "ranking = []\n",
    "\n",
    "for i in range(len(titles)):\n",
    "    ranking.append([i, svd.predict(1, i)[3]])\n",
    "\n",
    "ranking.sort(key = lambda ranking: ranking[1])\n",
    "ranking.reverse()\n",
    "print([titles[ranking[i][0]] for i in range(10)])"
   ]
  },
  {
   "cell_type": "code",
   "execution_count": null,
   "metadata": {},
   "outputs": [],
   "source": []
  }
 ],
 "metadata": {
  "kernelspec": {
   "display_name": "Python 3 (ipykernel)",
   "language": "python",
   "name": "python3"
  },
  "language_info": {
   "codemirror_mode": {
    "name": "ipython",
    "version": 3
   },
   "file_extension": ".py",
   "mimetype": "text/x-python",
   "name": "python",
   "nbconvert_exporter": "python",
   "pygments_lexer": "ipython3",
   "version": "3.8.10"
  }
 },
 "nbformat": 4,
 "nbformat_minor": 1
}
