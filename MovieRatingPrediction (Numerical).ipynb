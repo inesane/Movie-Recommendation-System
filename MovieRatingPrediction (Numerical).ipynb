{
  "nbformat": 4,
  "nbformat_minor": 0,
  "metadata": {
    "colab": {
      "provenance": []
    },
    "kernelspec": {
      "name": "python3",
      "display_name": "Python 3"
    },
    "language_info": {
      "name": "python"
    }
  },
  "cells": [
    {
      "cell_type": "code",
      "source": [
        "!gdown --id 1zu97TwzyU2T8OVvQ2VMof-XqHDX_fxPf"
      ],
      "metadata": {
        "colab": {
          "base_uri": "https://localhost:8080/"
        },
        "id": "cSYXMRpjunyX",
        "outputId": "02309243-f1d1-42eb-95a6-399adfa9ae2f"
      },
      "execution_count": null,
      "outputs": [
        {
          "output_type": "stream",
          "name": "stdout",
          "text": [
            "/usr/local/lib/python3.7/dist-packages/gdown/cli.py:131: FutureWarning: Option `--id` was deprecated in version 4.3.1 and will be removed in 5.0. You don't need to pass it anymore to use a file ID.\n",
            "  category=FutureWarning,\n",
            "Downloading...\n",
            "From: https://drive.google.com/uc?id=1zu97TwzyU2T8OVvQ2VMof-XqHDX_fxPf\n",
            "To: /content/data_merged.csv\n",
            "100% 227M/227M [00:01<00:00, 118MB/s]\n"
          ]
        }
      ]
    },
    {
      "cell_type": "code",
      "source": [
        "import pandas as pd\n",
        "import numpy as np\n",
        "\n",
        "from keras.utils import to_categorical\n",
        "from sklearn.model_selection import train_test_split\n",
        "\n",
        "from sklearn.linear_model import (\n",
        "    LinearRegression, \n",
        "    SGDRegressor, \n",
        "    LogisticRegression\n",
        ")\n",
        "from sklearn.svm import LinearSVC\n",
        "\n",
        "# from sklearn.preprocessing import normalize\n",
        "from sklearn.pipeline import make_pipeline\n",
        "from sklearn.preprocessing import StandardScaler\n",
        "\n",
        "SEED = 42\n",
        "TEST_SIZE = 0.2"
      ],
      "metadata": {
        "id": "BmA9NeprvQ5h"
      },
      "execution_count": null,
      "outputs": []
    },
    {
      "cell_type": "code",
      "source": [
        "data = pd.read_csv('./data_merged.csv')\n",
        "print(data.columns)"
      ],
      "metadata": {
        "id": "h6ZY389kvQMO",
        "colab": {
          "base_uri": "https://localhost:8080/"
        },
        "outputId": "68adeebf-6342-43b6-d503-9270f8efa73b"
      },
      "execution_count": null,
      "outputs": [
        {
          "output_type": "stream",
          "name": "stdout",
          "text": [
            "Index(['Unnamed: 0', 'adult', 'belongs_to_collection', 'budget', 'genres',\n",
            "       'id', 'original_title', 'overview', 'popularity',\n",
            "       'production_companies', 'production_countries', 'release_date',\n",
            "       'revenue', 'runtime', 'status', 'title', 'video', 'vote_average',\n",
            "       'vote_count', 'cast', 'crew', 'keywords'],\n",
            "      dtype='object')\n"
          ]
        }
      ]
    },
    {
      "cell_type": "code",
      "source": [
        "relevant_cols = ['revenue', 'budget', 'runtime', 'popularity', 'release_date']\n",
        "data = data.fillna(0)\n",
        "data['release_date'] = data['release_date'].apply(\n",
        "    lambda x: 2022 - int(str(x)[:4])\n",
        ")"
      ],
      "metadata": {
        "id": "nLmUI_GydNEP"
      },
      "execution_count": null,
      "outputs": []
    },
    {
      "cell_type": "code",
      "source": [
        "X = data[relevant_cols].to_numpy()\n",
        "y = np.array(data['vote_average'])"
      ],
      "metadata": {
        "id": "OdnUmPUkuwkL"
      },
      "execution_count": null,
      "outputs": []
    },
    {
      "cell_type": "code",
      "source": [
        "print(len(X), len(y))\n",
        "print(X.shape, y.shape)\n",
        "print(X[0], y[0])"
      ],
      "metadata": {
        "colab": {
          "base_uri": "https://localhost:8080/"
        },
        "id": "5CO9-1ChwWTq",
        "outputId": "2c86597f-c444-4706-d840-56a6d1bb9756"
      },
      "execution_count": null,
      "outputs": [
        {
          "output_type": "stream",
          "name": "stdout",
          "text": [
            "46628 46628\n",
            "(46628, 5) (46628,)\n",
            "[3.73554033e+08 3.00000000e+07 8.10000000e+01 2.19469430e+01\n",
            " 2.70000000e+01] 7.7\n"
          ]
        }
      ]
    },
    {
      "cell_type": "code",
      "source": [
        "def process(X, y):\n",
        "    new_X, new_y = [], []\n",
        "    \n",
        "    for Xi, yi in zip(X, y):\n",
        "        if any(Xij <= 0 for Xij in Xi): continue\n",
        "\n",
        "        new_X.append(Xi)\n",
        "        new_y.append(yi)\n",
        "\n",
        "    return new_X, new_y\n",
        "\n",
        "X, y = process(X, y)\n",
        "print(len(X), len(y))"
      ],
      "metadata": {
        "colab": {
          "base_uri": "https://localhost:8080/"
        },
        "id": "Q284I7VXx1AM",
        "outputId": "88db5921-ebcd-400a-c095-f5b967de5c69"
      },
      "execution_count": null,
      "outputs": [
        {
          "output_type": "stream",
          "name": "stdout",
          "text": [
            "5446 5446\n"
          ]
        }
      ]
    },
    {
      "cell_type": "code",
      "source": [
        "def regression(X, y, choice='lr'):\n",
        "    X_train, X_test, y_train, y_test = train_test_split(\n",
        "       X, y, test_size=TEST_SIZE, random_state=SEED\n",
        "    )\n",
        "\n",
        "    regressor = None\n",
        "    if choice == 'lr':\n",
        "        regressor = LinearRegression()\n",
        "    elif choice == 'sgd':\n",
        "        regressor = SGDRegressor(max_iter=2000, tol=1e-3)\n",
        "    else:\n",
        "        raise NotImplementedError\n",
        "\n",
        "    model = make_pipeline(StandardScaler(), regressor)\n",
        "    model.fit(X_train, y_train)\n",
        "    print(f\"{choice} score: {model.score(X_test, y_test)}\")\n",
        "    return"
      ],
      "metadata": {
        "id": "1-1WGoRu2oNC"
      },
      "execution_count": null,
      "outputs": []
    },
    {
      "cell_type": "code",
      "source": [
        "regression(X, y, 'lr')\n",
        "regression(X, y, 'sgd')"
      ],
      "metadata": {
        "colab": {
          "base_uri": "https://localhost:8080/"
        },
        "id": "MpsWaf2L3Rl0",
        "outputId": "8a5bc8c6-ee72-4a25-9d7e-0dd27832c0f6"
      },
      "execution_count": null,
      "outputs": [
        {
          "output_type": "stream",
          "name": "stdout",
          "text": [
            "lr score: 0.19881318571349116\n",
            "sgd score: 0.19652343917416404\n"
          ]
        }
      ]
    },
    {
      "cell_type": "code",
      "source": [
        "def classification(X, y, choice='lr'):\n",
        "    y = list(map(int, y))\n",
        "\n",
        "    X_train, X_test, y_train, y_test = train_test_split(\n",
        "       X, y, test_size=TEST_SIZE, random_state=SEED\n",
        "    )\n",
        "\n",
        "    classifier = None\n",
        "    if choice == 'lr':\n",
        "        classifier = LogisticRegression(max_iter=5000)\n",
        "    elif choice == 'svc':\n",
        "        classifier = LinearSVC(max_iter=5000)\n",
        "    else:\n",
        "        raise NotImplementedError\n",
        "\n",
        "    model = make_pipeline(StandardScaler(), classifier)\n",
        "    model.fit(X_train, y_train)\n",
        "    print(f\"{choice} score: {model.score(X_test, y_test)}\")\n",
        "    return"
      ],
      "metadata": {
        "id": "XDHnoct03f57"
      },
      "execution_count": null,
      "outputs": []
    },
    {
      "cell_type": "code",
      "source": [
        "classification(X, y, 'lr')\n",
        "classification(X, y, 'svc')"
      ],
      "metadata": {
        "colab": {
          "base_uri": "https://localhost:8080/"
        },
        "id": "d4t7HR_W1h8V",
        "outputId": "2a6e7f23-fc96-48b7-dcfa-e47f4927d54f"
      },
      "execution_count": null,
      "outputs": [
        {
          "output_type": "stream",
          "name": "stdout",
          "text": [
            "lr score: 0.4908256880733945\n",
            "svc score: 0.44954128440366975\n"
          ]
        },
        {
          "output_type": "stream",
          "name": "stderr",
          "text": [
            "/usr/local/lib/python3.7/dist-packages/sklearn/svm/_base.py:1208: ConvergenceWarning: Liblinear failed to converge, increase the number of iterations.\n",
            "  ConvergenceWarning,\n"
          ]
        }
      ]
    }
  ]
}